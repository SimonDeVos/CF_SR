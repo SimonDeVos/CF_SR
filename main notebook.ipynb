{
 "cells": [
  {
   "cell_type": "markdown",
   "source": [
    "Table of contents:\n",
    "1. Settings\n",
    "    1. data settings\n",
    "    2. specify hyperparameter grid\n",
    "2. Data preparation\n",
    "3. Hyperpara tuning\n",
    "    1. CF\n",
    "    2. CF+SR\n",
    "4. Experiment\n",
    "    1. CF\n",
    "    2. CF+SR\n",
    "5. Results\n",
    "6. Write results to .txt file"
   ],
   "metadata": {
    "collapsed": false,
    "pycharm": {
     "name": "#%% md\n"
    }
   }
  },
  {
   "cell_type": "code",
   "execution_count": 33,
   "outputs": [],
   "source": [
    "import pandas as pd\n",
    "import numpy as np\n",
    "from myFunctions import read_data, prep\n",
    "from myFunctions import metrics_sparse, create_initial_matrix, df_to_piv, piv_to_R, matrix_factorization, hyperpara_tuning, spearman, kendall, sim\n",
    "from myFunctions import load_SM, calc_SM\n",
    "from myFunctions import print_results, results_to_txt\n",
    "from datetime import datetime\n",
    "import random as rnd\n",
    "import warnings\n",
    "warnings.filterwarnings(\"ignore\")\n",
    "\n",
    "np.random.seed(0)\n",
    "rnd.seed(0)"
   ],
   "metadata": {
    "collapsed": false,
    "pycharm": {
     "name": "#%%\n"
    }
   }
  },
  {
   "cell_type": "markdown",
   "source": [
    "# 1. Settings"
   ],
   "metadata": {
    "collapsed": false,
    "pycharm": {
     "name": "#%% md\n"
    }
   }
  },
  {
   "cell_type": "markdown",
   "source": [
    "1.1 Data settings. Selection and split."
   ],
   "metadata": {
    "collapsed": false,
    "pycharm": {
     "name": "#%% md\n"
    }
   }
  },
  {
   "cell_type": "code",
   "execution_count": 34,
   "outputs": [],
   "source": [
    "#Select input data:\n",
    "toy_data = False    #contents make no sense - just to test code\n",
    "dataset_1 = False   #not publicly available\n",
    "dataset_2 = False   #not publicly available\n",
    "dataset_3 = True\n",
    "\n",
    "datasets = [toy_data,dataset_1,dataset_2,dataset_3]\n",
    "df, cov_array_personal, cov_array_personal_num, cov_array_personal_cat = read_data(datasets)"
   ],
   "metadata": {
    "collapsed": false,
    "pycharm": {
     "name": "#%%\n"
    }
   }
  },
  {
   "cell_type": "code",
   "execution_count": 35,
   "outputs": [],
   "source": [
    "#Train/val/test split:\n",
    "test_size = 0.25\n",
    "out_of_time = 1         #1 for out of time split. 0 otherwise\n",
    "one_in_train_val = 1    #1 if each case needs at least 1 observation in train_val set. 0 otherwise"
   ],
   "metadata": {
    "collapsed": false,
    "pycharm": {
     "name": "#%%\n"
    }
   }
  },
  {
   "cell_type": "markdown",
   "source": [
    "1.2 Specify hyperpara settings. Tuning: yes/no. Specify grid."
   ],
   "metadata": {
    "collapsed": false,
    "pycharm": {
     "name": "#%% md\n"
    }
   }
  },
  {
   "cell_type": "code",
   "execution_count": 36,
   "outputs": [],
   "source": [
    "#Tune hyperparameters. True: run full grid search (takes multiple hours). False: use optimal hyperparameters for dataset_3.\n",
    "tune_hyperpara_CF = False     #if True: takes multiple hours\n",
    "tune_hyperpara_CF_SR = False  #if True: takes multiple hours"
   ],
   "metadata": {
    "collapsed": false,
    "pycharm": {
     "name": "#%%\n"
    }
   }
  },
  {
   "cell_type": "code",
   "execution_count": 37,
   "outputs": [],
   "source": [
    "#Similarity matrix: load or calculate. Calculating might take >1hr, depending on dataset used.\n",
    "load_similarity_matrix = True #True: load matrix. False: calculate and save matrix."
   ],
   "metadata": {
    "collapsed": false,
    "pycharm": {
     "name": "#%%\n"
    }
   }
  },
  {
   "cell_type": "code",
   "execution_count": 38,
   "outputs": [],
   "source": [
    "#Define Hyperpara grid:\n",
    "lambda_array = [0.01,0.02,0.05]\n",
    "beta_array = [0,0.05,0.1,0.2,0.5]\n",
    "alpha_array = [0.0001,0.001]\n",
    "L_array = [5,10,15]\n",
    "steps_array = [500,1000,2000,3000]"
   ],
   "metadata": {
    "collapsed": false,
    "pycharm": {
     "name": "#%%\n"
    }
   }
  },
  {
   "cell_type": "code",
   "execution_count": 39,
   "outputs": [],
   "source": [
    "#Set default values of hyperparameters if these are not tuned:\n",
    "lambda_optimal_cf, beta_optimal_cf, alpha_optimal_cf, L_optimal_cf, steps_optimal_cf = 0.05,0,0.001,10,1000     #optimal hyperparas for CF on dataset_3\n",
    "lambda_optimal_cf_sr, beta_optimal_cf_sr, alpha_optimal_cf_sr, L_optimal_cf_sr, steps_optimal_cf_sr = 0.02,0.1,0.001,5,3000 #optimal hyperparas for CF_SR on dataset_3"
   ],
   "metadata": {
    "collapsed": false,
    "pycharm": {
     "name": "#%%\n"
    }
   }
  },
  {
   "cell_type": "markdown",
   "source": [
    "# 2. Preparation"
   ],
   "metadata": {
    "collapsed": false
   }
  },
  {
   "cell_type": "code",
   "execution_count": 40,
   "outputs": [],
   "source": [
    "#start time experiment:\n",
    "start_time_experiment = datetime.now()"
   ],
   "metadata": {
    "collapsed": false,
    "pycharm": {
     "name": "#%%\n"
    }
   }
  },
  {
   "cell_type": "code",
   "execution_count": 41,
   "outputs": [],
   "source": [
    "#From eventlog, select target columns\n",
    "values_log = 'objective'\n",
    "index_log = ['case:concept:name']\n",
    "columns_log = ['concept:name']"
   ],
   "metadata": {
    "collapsed": false,
    "pycharm": {
     "name": "#%%\n"
    }
   }
  },
  {
   "cell_type": "code",
   "execution_count": 42,
   "outputs": [],
   "source": [
    "df, df_train_val, df_train, df_val, df_test = prep(df,test_size=0.25,out_of_time=out_of_time,one_in_train_val=one_in_train_val)"
   ],
   "metadata": {
    "collapsed": false,
    "pycharm": {
     "name": "#%%\n"
    }
   }
  },
  {
   "cell_type": "code",
   "execution_count": 43,
   "outputs": [],
   "source": [
    "piv, piv_train_val,piv_train,piv_val,piv_test = df_to_piv(df,df_train_val,df_train,df_val,df_test)"
   ],
   "metadata": {
    "collapsed": false,
    "pycharm": {
     "name": "#%%\n"
    }
   }
  },
  {
   "cell_type": "code",
   "execution_count": 44,
   "outputs": [],
   "source": [
    "R,R_train_val,R_train,R_val,R_test = piv_to_R(piv, piv_train_val,piv_train,piv_val,piv_test)"
   ],
   "metadata": {
    "collapsed": false,
    "pycharm": {
     "name": "#%%\n"
    }
   }
  },
  {
   "cell_type": "code",
   "execution_count": 45,
   "outputs": [
    {
     "name": "stdout",
     "output_type": "stream",
     "text": [
      "the size of the dataframe is: 53600\n",
      "amount of employees: 1238\n",
      "amount of jobs: 209\n"
     ]
    }
   ],
   "source": [
    "#Read users and item indices (to later reconstruct the ratings matrix)\n",
    "empl = piv.index.values.tolist()\n",
    "jobs = piv.columns.values.tolist()\n",
    "\n",
    "#Details on dataset:\n",
    "print(f'the size of the dataframe is: {df.size}')\n",
    "print(f'amount of employees: {len(empl)}')\n",
    "print(f'amount of jobs: {len(jobs)}')"
   ],
   "metadata": {
    "collapsed": false,
    "pycharm": {
     "name": "#%%\n"
    }
   }
  },
  {
   "cell_type": "code",
   "execution_count": 46,
   "outputs": [
    {
     "data": {
      "text/plain": "['V06', 'V08']"
     },
     "execution_count": 46,
     "metadata": {},
     "output_type": "execute_result"
    }
   ],
   "source": [
    "#The vector on which similarities between employees are calculated\n",
    "cov_array_personal"
   ],
   "metadata": {
    "collapsed": false,
    "pycharm": {
     "name": "#%%\n"
    }
   }
  },
  {
   "cell_type": "markdown",
   "source": [
    "# 3. Hyperpara tuning"
   ],
   "metadata": {
    "collapsed": false,
    "pycharm": {
     "name": "#%% md\n"
    }
   }
  },
  {
   "cell_type": "code",
   "execution_count": 47,
   "outputs": [],
   "source": [
    "#initialization for matrix factorization\n",
    "N = len(R)      # N: num of employees\n",
    "M = len(R[0])   # M: num of jobs"
   ],
   "metadata": {
    "collapsed": false,
    "pycharm": {
     "name": "#%%\n"
    }
   }
  },
  {
   "cell_type": "code",
   "execution_count": 48,
   "outputs": [],
   "source": [
    "#Configure similarity matrix. Either Load or Calculate & Save\n",
    "if load_similarity_matrix:\n",
    "    similarity_matrix = load_SM(datasets)\n",
    "else:\n",
    "    similarity_matrix = calc_SM(datasets,df,N,cov_array_personal,cov_array_personal_cat,cov_array_personal_num)"
   ],
   "metadata": {
    "collapsed": false,
    "pycharm": {
     "name": "#%%\n"
    }
   }
  },
  {
   "cell_type": "code",
   "execution_count": 49,
   "outputs": [],
   "source": [
    "#if True, overwrite previously assigned values\n",
    "if tune_hyperpara_CF:\n",
    "    lambda_optimal_cf, beta_optimal_cf, alpha_optimal_cf, L_optimal_cf, steps_optimal_cf = hyperpara_tuning(R_train=R_train,R_val=R_val,sr=0,objective=1,sm=similarity_matrix,lambda_array=lambda_array, beta_array=beta_array, alpha_array=alpha_array, L_array=L_array, steps_array=steps_array)"
   ],
   "metadata": {
    "collapsed": false,
    "pycharm": {
     "name": "#%%\n"
    }
   }
  },
  {
   "cell_type": "code",
   "execution_count": 50,
   "outputs": [],
   "source": [
    "#if True, overwrite previously assigned values\n",
    "if tune_hyperpara_CF_SR:\n",
    "    lambda_optimal_cf_sr, beta_optimal_cf_sr, alpha_optimal_cf_sr, L_optimal_cf_sr, steps_optimal_cf_sr = hyperpara_tuning(R_train=R_train,R_val=R_val,sr=1,objective=1,sm=similarity_matrix,lambda_array=lambda_array, beta_array=beta_array, alpha_array=alpha_array, L_array=L_array, steps_array=steps_array)"
   ],
   "metadata": {
    "collapsed": false,
    "pycharm": {
     "name": "#%%\n"
    }
   }
  },
  {
   "cell_type": "code",
   "execution_count": 51,
   "outputs": [
    {
     "name": "stdout",
     "output_type": "stream",
     "text": [
      "optimal hyperparameters for CF:\n",
      "lambda: 0.050 beta: 0.000 alpha: 0.001 L: 10.000 steps: 1000.000\n",
      "optimal hyperparameters for CF_SR:\n",
      "lambda: 0.020 beta: 0.100 alpha: 0.001 L: 5.000 steps: 3000.000\n"
     ]
    }
   ],
   "source": [
    "print(\"optimal hyperparameters for CF:\")\n",
    "print(\"lambda: {:.3f} beta: {:.3f} alpha: {:.3f} L: {:.3f} steps: {:.3f}\".format(lambda_optimal_cf, beta_optimal_cf, alpha_optimal_cf, L_optimal_cf, steps_optimal_cf))\n",
    "\n",
    "print(\"optimal hyperparameters for CF_SR:\")\n",
    "print(\"lambda: {:.3f} beta: {:.3f} alpha: {:.3f} L: {:.3f} steps: {:.3f}\".format(lambda_optimal_cf_sr, beta_optimal_cf_sr, alpha_optimal_cf_sr, L_optimal_cf_sr, steps_optimal_cf_sr))"
   ],
   "metadata": {
    "collapsed": false,
    "pycharm": {
     "name": "#%%\n"
    }
   }
  },
  {
   "cell_type": "markdown",
   "source": [
    "# 4. Experiment"
   ],
   "metadata": {
    "collapsed": false,
    "pycharm": {
     "name": "#%% md\n"
    }
   }
  },
  {
   "cell_type": "code",
   "execution_count": 52,
   "outputs": [],
   "source": [
    "P_ini_cf, Q_ini_cf = create_initial_matrix(N, M, L_optimal_cf)\n",
    "P_ini_cf_sr, Q_ini_cf_sr = create_initial_matrix(N, M, L_optimal_cf_sr)"
   ],
   "metadata": {
    "collapsed": false,
    "pycharm": {
     "name": "#%%\n"
    }
   }
  },
  {
   "cell_type": "markdown",
   "source": [
    "4.1 Method 1: CF"
   ],
   "metadata": {
    "collapsed": false,
    "pycharm": {
     "name": "#%% md\n"
    }
   }
  },
  {
   "cell_type": "code",
   "execution_count": 53,
   "outputs": [
    {
     "data": {
      "text/plain": "  0%|          | 0/1000 [00:00<?, ?it/s]",
      "application/vnd.jupyter.widget-view+json": {
       "version_major": 2,
       "version_minor": 0,
       "model_id": "53172d6d5b904714bce27d3ec8cb89f3"
      }
     },
     "metadata": {},
     "output_type": "display_data"
    }
   ],
   "source": [
    "#runtime for dataset_3: +-10 minutes\n",
    "nP_cf, nQ_cf = matrix_factorization(\n",
    "    R=R_train,\n",
    "    P=P_ini_cf,\n",
    "    Q=Q_ini_cf,\n",
    "    K=L_optimal_cf,\n",
    "    steps=steps_optimal_cf,\n",
    "    alpha=alpha_optimal_cf,\n",
    "    lambda1=lambda_optimal_cf,\n",
    "    beta=beta_optimal_cf,\n",
    "    SR=False,\n",
    "    similarity_matrix=None)\n",
    "nR_cf = np.dot(nP_cf, nQ_cf.T)"
   ],
   "metadata": {
    "collapsed": false,
    "pycharm": {
     "name": "#%%\n"
    }
   }
  },
  {
   "cell_type": "markdown",
   "source": [
    "4.2 Method 2: CF with SR"
   ],
   "metadata": {
    "collapsed": false,
    "pycharm": {
     "name": "#%% md\n"
    }
   }
  },
  {
   "cell_type": "code",
   "execution_count": 54,
   "outputs": [
    {
     "data": {
      "text/plain": "  0%|          | 0/3000 [00:00<?, ?it/s]",
      "application/vnd.jupyter.widget-view+json": {
       "version_major": 2,
       "version_minor": 0,
       "model_id": "bf91d797977546f29c41c8994188ea3d"
      }
     },
     "metadata": {},
     "output_type": "display_data"
    }
   ],
   "source": [
    "#runtime for dataset_3: +-45 minutes\n",
    "nP_cf_sr, nQ_cf_sr = matrix_factorization(\n",
    "    R_train,\n",
    "    P_ini_cf_sr,\n",
    "    Q_ini_cf_sr,\n",
    "    K=L_optimal_cf_sr,\n",
    "    steps=steps_optimal_cf_sr,\n",
    "    alpha=alpha_optimal_cf_sr,\n",
    "    lambda1=lambda_optimal_cf_sr,\n",
    "    beta=beta_optimal_cf_sr,\n",
    "    SR=True,\n",
    "    similarity_matrix=similarity_matrix)\n",
    "nR_cf_sr = np.dot(nP_cf_sr, nQ_cf_sr.T)"
   ],
   "metadata": {
    "collapsed": false,
    "pycharm": {
     "name": "#%%\n"
    }
   }
  },
  {
   "cell_type": "markdown",
   "source": [
    "# 5. Results"
   ],
   "metadata": {
    "collapsed": false
   }
  },
  {
   "cell_type": "code",
   "execution_count": 55,
   "outputs": [
    {
     "name": "stdout",
     "output_type": "stream",
     "text": [
      "\n",
      "** pred CF  ** \n",
      "mae: 0.1542\n",
      "rmse: 0.2831\n",
      "spearman: 0.2318\n",
      "kendall: 0.2112\n",
      "\n",
      "** pred CF+SR ** \n",
      "mae: 0.1548\n",
      "rmse: 0.2175\n",
      "spearman: 0.5106\n",
      "kendall: 0.4807\n",
      "\n",
      "** pred random ** \n",
      "mae: 0.3088\n",
      "rmse: 0.3711\n",
      "spearman: -0.1166\n",
      "kendall: -0.1099\n",
      "\n",
      "** pred 0.5 ** \n",
      "mae: 0.1865\n",
      "rmse: 0.2302\n",
      "spearman: nan\n",
      "kendall: nan\n"
     ]
    },
    {
     "data": {
      "text/plain": "(0.1865, 0.2302, nan, nan)"
     },
     "execution_count": 55,
     "metadata": {},
     "output_type": "execute_result"
    }
   ],
   "source": [
    "print('\\n** pred CF  ** ')\n",
    "print_results(nR_cf,R_test)\n",
    "\n",
    "print('\\n** pred CF+SR ** ')\n",
    "print_results(nR_cf_sr,R_test)\n",
    "\n",
    "print('\\n** pred random ** ')\n",
    "R_rand = np.random.rand(N,M)\n",
    "print_results(R_rand,R_test,)\n",
    "\n",
    "print('\\n** pred 0.5 ** ')\n",
    "R_05 = np.full([N,M],0.5)\n",
    "print_results(R_05,R_test)\n"
   ],
   "metadata": {
    "collapsed": false,
    "pycharm": {
     "name": "#%%\n"
    }
   }
  },
  {
   "cell_type": "markdown",
   "source": [
    "# 6. Write results to text file"
   ],
   "metadata": {
    "collapsed": false,
    "pycharm": {
     "name": "#%% md\n"
    }
   }
  },
  {
   "cell_type": "code",
   "execution_count": 56,
   "outputs": [],
   "source": [
    "#Run cell to write a summary of results to Results/results_YYYY-mm-dd HH-MM-SS.txt\n",
    "results_to_txt(nR_cf, nR_cf_sr, R_test, start_time_experiment, toy_data, dataset_1, dataset_2, dataset_3, cov_array_personal, test_size, out_of_time, one_in_train_val, lambda_array, beta_array, alpha_array, L_array, steps_array, lambda_optimal_cf, beta_optimal_cf, L_optimal_cf, alpha_optimal_cf, steps_optimal_cf, lambda_optimal_cf_sr, beta_optimal_cf_sr, alpha_optimal_cf_sr, L_optimal_cf_sr, steps_optimal_cf_sr)"
   ],
   "metadata": {
    "collapsed": false,
    "pycharm": {
     "name": "#%%\n"
    }
   }
  }
 ],
 "metadata": {
  "kernelspec": {
   "display_name": "Python 3",
   "language": "python",
   "name": "python3"
  },
  "language_info": {
   "codemirror_mode": {
    "name": "ipython",
    "version": 2
   },
   "file_extension": ".py",
   "mimetype": "text/x-python",
   "name": "python",
   "nbconvert_exporter": "python",
   "pygments_lexer": "ipython2",
   "version": "2.7.6"
  }
 },
 "nbformat": 4,
 "nbformat_minor": 0
}