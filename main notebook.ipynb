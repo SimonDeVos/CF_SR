{
 "cells": [
  {
   "cell_type": "markdown",
   "source": [
    "Table of contents:\n",
    "1. Settings\n",
    "    1. data settings\n",
    "    2. specify hyperparameter grid\n",
    "2. Data preparation\n",
    "3. Hyperpara tuning\n",
    "    1. CF\n",
    "    2. CF+SR\n",
    "4. Experiment\n",
    "    1. CF\n",
    "    2. CF+SR\n",
    "5. Results\n",
    "6. Write results to .txt file"
   ],
   "metadata": {
    "collapsed": false,
    "pycharm": {
     "name": "#%% md\n"
    }
   }
  },
  {
   "cell_type": "code",
   "execution_count": 157,
   "outputs": [],
   "source": [
    "import pandas as pd\n",
    "import numpy as np\n",
    "from myFunctions import read_data, prep\n",
    "from myFunctions import metrics_sparse, df_to_piv, piv_to_R, matrix_factorization, hyperpara_tuning, spearman, kendall, sim\n",
    "from myFunctions import results_to_txt\n",
    "from myFunctions import print_results\n",
    "from datetime import datetime\n",
    "\n",
    "import warnings\n",
    "warnings.filterwarnings(\"ignore\")"
   ],
   "metadata": {
    "collapsed": false,
    "pycharm": {
     "name": "#%%\n"
    }
   }
  },
  {
   "cell_type": "markdown",
   "source": [
    "# 1. Settings"
   ],
   "metadata": {
    "collapsed": false,
    "pycharm": {
     "name": "#%% md\n"
    }
   }
  },
  {
   "cell_type": "markdown",
   "source": [
    "1.1 Data settings. Selection and split."
   ],
   "metadata": {
    "collapsed": false,
    "pycharm": {
     "name": "#%% md\n"
    }
   }
  },
  {
   "cell_type": "code",
   "execution_count": 207,
   "outputs": [],
   "source": [
    "#Select input data:\n",
    "toy_data = False     #contents make no sense - just to test code\n",
    "dataset_1 = False   #not publicly available\n",
    "dataset_2 = False   #not publicly available\n",
    "dataset_3 = True\n",
    "\n",
    "datasets = [toy_data,dataset_1,dataset_2,dataset_3]\n",
    "df, cov_array_personal, cov_array_personal_num, cov_array_personal_cat = read_data(datasets)"
   ],
   "metadata": {
    "collapsed": false,
    "pycharm": {
     "name": "#%%\n"
    }
   }
  },
  {
   "cell_type": "code",
   "execution_count": 208,
   "outputs": [],
   "source": [
    "#Train/val/test split:\n",
    "test_size = 0.25\n",
    "out_of_time = 1         #1 for out of time split. 0 otherwise\n",
    "one_in_train_val = 1    #1 if each case needs at least 1 observation in train_val set. 0 otherwise"
   ],
   "metadata": {
    "collapsed": false,
    "pycharm": {
     "name": "#%%\n"
    }
   }
  },
  {
   "cell_type": "markdown",
   "source": [
    "1.2 Specify hyperpara settings. Tuning: yes/no. Specify grid."
   ],
   "metadata": {
    "collapsed": false,
    "pycharm": {
     "name": "#%% md\n"
    }
   }
  },
  {
   "cell_type": "code",
   "execution_count": 228,
   "outputs": [],
   "source": [
    "#Tune hyperparameters. True: run full grid search (takes multiple hours). False: use optimal hyperparameters for dataset_3.\n",
    "tune_hyperpara_CF = False    #if True: takes multiple hours\n",
    "tune_hyperpara_CF_SR = False  #if True: takes multiple hours\n",
    "\n",
    "#Calculate or load similarity matrix. Calculating might take >1hr, depending on dataset used.\n",
    "load_similarity_matrix = True #True: load matrix. False: calculate and save matrix.\n",
    "\n",
    "#Define Hyperpara grid:\n",
    "lambda_array = [0.01,0.02,0.05]\n",
    "beta_array = [0,0.05,0.1,0.2,0.5]\n",
    "alpha_array = [0.0001,0.001]\n",
    "L_array = [5,10,15,]\n",
    "steps_array = [500,1000,2000,3000]\n",
    "\n",
    "#Set default values of hyperparameters if these are not tuned:\n",
    "lambda_optimal_cf, beta_optimal_cf, alpha_optimal_cf, L_optimal_cf, steps_optimal_cf = 0.05,0,0.001,10,1000     #optimal hyperparas for CF on dataset_3\n",
    "lambda_optimal_cf_sr, beta_optimal_cf_sr, alpha_optimal_cf_sr, L_optimal_cf_sr, steps_optimal_cf_sr = 0.02,0.1,0.001,5,3000 #optimal hyperparas for CF_SR on dataset_3\n",
    "\n",
    "#Select input data:\n",
    "#Toy_data = True\n",
    "#Imec = False\n",
    "#Imec_subset = False\n",
    "#Cegeka = False\n",
    "#Cegeka_noSensors = False\n",
    "#Cegeka_subset = False\n",
    "#Acerta = False\n",
    "#Acerta_noSensors = False\n",
    "#Acerta_noSensors_anonymous = False\n",
    "#Acerta_subset = False\n",
    "\n",
    "\n",
    "\n",
    "\n"
   ],
   "metadata": {
    "collapsed": false,
    "pycharm": {
     "name": "#%%\n"
    }
   }
  },
  {
   "cell_type": "code",
   "execution_count": 210,
   "outputs": [
    {
     "data": {
      "text/plain": "'Cegeka data'"
     },
     "execution_count": 210,
     "metadata": {},
     "output_type": "execute_result"
    }
   ],
   "source": [
    "\n",
    "\n",
    "\n",
    "\n",
    "\n",
    "\"\"\"Toy data\"\"\"\n",
    "#if Toy_data:\n",
    "#    path = 'Data/toy_example.csv'\n",
    "#    separator = ';'\n",
    "#    cov_array_personal = ['X1','X2','X3','X4']\n",
    "#    cov_array_personal_num = ['X1','X2','X3']\n",
    "#    cov_array_personal_cat = ['X4']\n",
    "\n",
    "#\"\"\"Imec data\"\"\"\n",
    "#if Imec:\n",
    "#    path = 'Data/imec_log2022-05-11.csv'\n",
    "#    cov_array_personal = ['Branch_of_Study','Degree']\n",
    "#    cov_array_personal_num = []\n",
    "#    cov_array_personal_cat = ['Branch_of_Study','Degree']\n",
    "#    separator = ';'\n",
    "\n",
    "#if Imec_subset:\n",
    "#    #path = 'Data/imec_log_reworked_subset.csv'\n",
    "#    #path= 'Data/imec_log_reworked_subsetobj2 20220727.csv'\n",
    "#    path = 'Data/imec_log_reworked_obj2 20220729.csv'\n",
    "    #path = 'Data/imec_log_reworked.csv'\n",
    "#    cov_array_personal = ['Branch_of_Study','Degree']\n",
    "#    cov_array_personal_num = []\n",
    "#    cov_array_personal_cat = ['Branch_of_Study','Degree']\n",
    "#    separator = ';'\n",
    "\n",
    "\"\"\"Acerta data\"\"\"\n",
    "#if Acerta:\n",
    "#    path = 'Data/acerta_log_obj2 20220803.csv'\n",
    "#    separator = ';'\n",
    "#    cov_array_personal = ['opleidingsniveau','ancienniteit_in_AOV']\n",
    "#    #cov_array_personal_num = ['Loonschaal','ancienniteit_in_AOV']\n",
    "#    cov_array_personal_num = ['ancienniteit_in_AOV']\n",
    "#    cov_array_personal_cat = ['opleidingsniveau']\n",
    "\n",
    "#if Acerta_noSensors:\n",
    "#    path = 'Data/Acerta_log__obj2_nosensors_20230117.csv'\n",
    "#    separator = ';'\n",
    "#    cov_array_personal = ['opleidingsniveau','ancienniteit_in_AOV']\n",
    "#    #cov_array_personal_num = ['Loonschaal','ancienniteit_in_AOV']\n",
    "#    cov_array_personal_num = ['ancienniteit_in_AOV']\n",
    "#    cov_array_personal_cat = ['opleidingsniveau']\n",
    "\n",
    "#if Acerta_noSensors_anonymous:\n",
    "#    path = 'Data/HR_log_anonymous_noSensors_y.csv'\n",
    "#    separator = ';'\n",
    "#    cov_array_personal = ['V06','V08']\n",
    "#    #cov_array_personal_num = ['Loonschaal','ancienniteit_in_AOV']\n",
    "#    cov_array_personal_num = ['V08']\n",
    "#    cov_array_personal_cat = ['V06']\n",
    "\n",
    "#if Acerta_subset:\n",
    "##    #path = 'Data/acerta_log_subsetConsult_20221117.csv'\n",
    "#    path = 'Data/acerta_log_subset_obj2_20220803.csv'\n",
    "#    separator = ';'\n",
    "#    #cov_array_personal = ['opleidingsniveau','Loonschaal','ancienniteit_in_AOV'] #for Acerta data\n",
    "#    cov_array_personal = ['opleidingsniveau','ancienniteit_in_AOV']\n",
    "#    #cov_array_personal_num = ['Loonschaal','ancienniteit_in_AOV']\n",
    "#    cov_array_personal_num = ['ancienniteit_in_AOV']\n",
    "#    cov_array_personal_cat = ['opleidingsniveau']\n",
    "\n",
    "\n",
    "\"\"\"Cegeka data\"\"\"\n",
    "#if Cegeka:\n",
    "#    path = 'Data/cegeka_log_extended_obj2_noSensors 20230106.csv' #full dataset, without current positions (leave out sensored data)\n",
    "#    separator = ';'\n",
    "#    cov_array_personal = ['Opleidingsgraad','Leeftijdscategorie'] #for Cegeka data\n",
    "#    cov_array_personal_num = []\n",
    "#    cov_array_personal_cat = ['Opleidingsgraad','Leeftijdscategorie']\n",
    "\n",
    "##if Cegeka_noSensors:\n",
    "#    path = 'Data/cegeka_log_extended_obj2_noSensors 20230106.csv'\n",
    "#    cov_array_personal = ['Opleidingsgraad','Leeftijdscategorie'] #for Cegeka data\n",
    "#    cov_array_personal_num = []\n",
    "#    cov_array_personal_cat = ['Opleidingsgraad','Leeftijdscategorie']\n",
    "#    separator = \";\"\n",
    "\n",
    "#if Cegeka_subset:\n",
    "#    path = 'Data/cegeka_log_subset_obj2 20220804.csv'\n",
    "    #path = 'Data/cegeka_log_smallsubset_obj2 20230106.csv'\n",
    "#    separator = ';'\n",
    "#    cov_array_personal = ['Opleidingsgraad','Leeftijdscategorie'] #for Cegeka data\n",
    "#    cov_array_personal_num = []\n",
    "#    cov_array_personal_cat = ['Opleidingsgraad','Leeftijdscategorie']\n"
   ],
   "metadata": {
    "collapsed": false,
    "pycharm": {
     "name": "#%%\n"
    }
   }
  },
  {
   "cell_type": "markdown",
   "source": [
    "# 2. Preparation"
   ],
   "metadata": {
    "collapsed": false
   }
  },
  {
   "cell_type": "code",
   "execution_count": 211,
   "outputs": [],
   "source": [
    "#start time experiment:\n",
    "start_time_experiment = datetime.now()"
   ],
   "metadata": {
    "collapsed": false,
    "pycharm": {
     "name": "#%%\n"
    }
   }
  },
  {
   "cell_type": "code",
   "execution_count": 212,
   "outputs": [],
   "source": [
    "#From eventlog, select target columns\n",
    "values_log = 'objective'\n",
    "index_log = ['case:concept:name']\n",
    "columns_log = ['concept:name']\n",
    "\n",
    "#train-test split\n",
    "#test_size = 0.25 #This will be smaller in reality because of the extra samples in test set\n",
    "#random_state = 42"
   ],
   "metadata": {
    "collapsed": false,
    "pycharm": {
     "name": "#%%\n"
    }
   }
  },
  {
   "cell_type": "code",
   "execution_count": 212,
   "outputs": [],
   "source": [],
   "metadata": {
    "collapsed": false,
    "pycharm": {
     "name": "#%%\n"
    }
   }
  },
  {
   "cell_type": "code",
   "execution_count": 213,
   "outputs": [],
   "source": [
    "#Read eventlog as df\n",
    "#df = pd.read_csv(path, sep=str(separator))\n",
    "#df = pd.read_csv(path, sep=str(separator), dtype={'case:concept:name': str,'Afdeling Code':str,'Dienstverbandtype Code':str}) #for cegeka"
   ],
   "metadata": {
    "collapsed": false,
    "pycharm": {
     "name": "#%%\n"
    }
   }
  },
  {
   "cell_type": "code",
   "execution_count": 214,
   "outputs": [
    {
     "name": "stdout",
     "output_type": "stream",
     "text": [
      "employee 385 has an observation moved from test to train_val\n",
      "employee 1090 has an observation moved from test to train_val\n",
      "employee 1457 has an observation moved from test to train_val\n",
      "employee 44 has an observation moved from test to train_val\n",
      "employee 527 has an observation moved from test to train_val\n",
      "employee 48 has an observation moved from test to train_val\n",
      "employee 463 has an observation moved from test to train_val\n",
      "employee 228 has an observation moved from test to train_val\n",
      "employee 631 has an observation moved from test to train_val\n",
      "employee 1245 has an observation moved from test to train_val\n",
      "employee 412 has an observation moved from test to train_val\n",
      "employee 913 has an observation moved from test to train_val\n",
      "employee 1212 has an observation moved from test to train_val\n",
      "employee 578 has an observation moved from test to train_val\n",
      "employee 518 has an observation moved from test to train_val\n",
      "employee 738 has an observation moved from test to train_val\n",
      "employee 249 has an observation moved from test to train_val\n",
      "employee 512 has an observation moved from test to train_val\n",
      "employee 253 has an observation moved from test to train_val\n",
      "employee 580 has an observation moved from test to train_val\n",
      "employee 218 has an observation moved from test to train_val\n",
      "employee 1259 has an observation moved from test to train_val\n",
      "employee 219 has an observation moved from test to train_val\n",
      "employee 746 has an observation moved from test to train_val\n",
      "employee 714 has an observation moved from test to train_val\n",
      "employee 556 has an observation moved from test to train_val\n",
      "employee 765 has an observation moved from test to train_val\n",
      "employee 745 has an observation moved from test to train_val\n",
      "employee 547 has an observation moved from test to train_val\n",
      "employee 858 has an observation moved from test to train_val\n",
      "employee 1124 has an observation moved from test to train_val\n",
      "employee 125 has an observation moved from test to train_val\n",
      "employee 754 has an observation moved from test to train_val\n",
      "employee 401 has an observation moved from test to train_val\n",
      "employee 1111 has an observation moved from test to train_val\n",
      "employee 285 has an observation moved from test to train_val\n",
      "employee 245 has an observation moved from test to train_val\n",
      "employee 143 has an observation moved from test to train_val\n",
      "employee 428 has an observation moved from test to train_val\n",
      "employee 956 has an observation moved from test to train_val\n",
      "employee 45 has an observation moved from test to train_val\n",
      "employee 157 has an observation moved from test to train_val\n",
      "employee 411 has an observation moved from test to train_val\n",
      "employee 123 has an observation moved from test to train_val\n",
      "employee 453 has an observation moved from test to train_val\n",
      "employee 148 has an observation moved from test to train_val\n",
      "employee 839 has an observation moved from test to train_val\n",
      "employee 243 has an observation moved from test to train_val\n",
      "employee 108 has an observation moved from test to train_val\n",
      "employee 293 has an observation moved from test to train_val\n",
      "employee 381 has an observation moved from test to train_val\n",
      "employee 883 has an observation moved from test to train_val\n",
      "employee 1173 has an observation moved from test to train_val\n",
      "employee 346 has an observation moved from test to train_val\n",
      "employee 449 has an observation moved from test to train_val\n",
      "employee 508 has an observation moved from test to train_val\n",
      "employee 995 has an observation moved from test to train_val\n",
      "employee 784 has an observation moved from test to train_val\n",
      "employee 119 has an observation moved from test to train_val\n",
      "employee 557 has an observation moved from test to train_val\n",
      "employee 916 has an observation moved from test to train_val\n",
      "employee 716 has an observation moved from test to train_val\n",
      "employee 501 has an observation moved from test to train_val\n",
      "employee 597 has an observation moved from test to train_val\n",
      "employee 435 has an observation moved from test to train_val\n",
      "employee 704 has an observation moved from test to train_val\n",
      "employee 1267 has an observation moved from test to train_val\n",
      "employee 1465 has an observation moved from test to train_val\n",
      "employee 1217 has an observation moved from test to train_val\n",
      "employee 1134 has an observation moved from test to train_val\n",
      "employee 215 has an observation moved from test to train_val\n",
      "employee 455 has an observation moved from test to train_val\n",
      "employee 576 has an observation moved from test to train_val\n",
      "employee 268 has an observation moved from test to train_val\n",
      "employee 721 has an observation moved from test to train_val\n",
      "employee 105 has an observation moved from test to train_val\n",
      "employee 652 has an observation moved from test to train_val\n",
      "employee 717 has an observation moved from test to train_val\n",
      "employee 1476 has an observation moved from test to train_val\n",
      "employee 834 has an observation moved from test to train_val\n",
      "employee 304 has an observation moved from test to train_val\n",
      "employee 602 has an observation moved from test to train_val\n",
      "employee 283 has an observation moved from test to train_val\n",
      "employee 953 has an observation moved from test to train_val\n",
      "employee 650 has an observation moved from test to train_val\n",
      "employee 466 has an observation moved from test to train_val\n",
      "employee 630 has an observation moved from test to train_val\n",
      "employee 640 has an observation moved from test to train_val\n",
      "employee 598 has an observation moved from test to train_val\n",
      "employee 1219 has an observation moved from test to train_val\n",
      "employee 217 has an observation moved from test to train_val\n",
      "employee 1533 has an observation moved from test to train_val\n",
      "employee 336 has an observation moved from test to train_val\n",
      "employee 1064 has an observation moved from test to train_val\n",
      "employee 1137 has an observation moved from test to train_val\n",
      "employee 194 has an observation moved from test to train_val\n",
      "employee 1036 has an observation moved from test to train_val\n",
      "employee 424 has an observation moved from test to train_val\n",
      "employee 1006 has an observation moved from test to train_val\n",
      "employee 413 has an observation moved from test to train_val\n",
      "employee 349 has an observation moved from test to train_val\n",
      "employee 815 has an observation moved from test to train_val\n",
      "employee 396 has an observation moved from test to train_val\n",
      "employee 54 has an observation moved from test to train_val\n",
      "employee 331 has an observation moved from test to train_val\n",
      "employee 288 has an observation moved from test to train_val\n",
      "employee 114 has an observation moved from test to train_val\n",
      "employee 223 has an observation moved from test to train_val\n",
      "employee 156 has an observation moved from test to train_val\n",
      "employee 5 has an observation moved from test to train_val\n",
      "employee 798 has an observation moved from test to train_val\n",
      "employee 279 has an observation moved from test to train_val\n",
      "employee 1117 has an observation moved from test to train_val\n",
      "employee 390 has an observation moved from test to train_val\n",
      "employee 468 has an observation moved from test to train_val\n",
      "employee 347 has an observation moved from test to train_val\n",
      "employee 572 has an observation moved from test to train_val\n",
      "employee 1097 has an observation moved from test to train_val\n",
      "employee 1029 has an observation moved from test to train_val\n",
      "employee 102 has an observation moved from test to train_val\n",
      "employee 502 has an observation moved from test to train_val\n",
      "employee 144 has an observation moved from test to train_val\n",
      "employee 181 has an observation moved from test to train_val\n",
      "employee 284 has an observation moved from test to train_val\n",
      "employee 348 has an observation moved from test to train_val\n",
      "employee 207 has an observation moved from test to train_val\n",
      "employee 569 has an observation moved from test to train_val\n",
      "employee 300 has an observation moved from test to train_val\n",
      "employee 76 has an observation moved from test to train_val\n",
      "employee 134 has an observation moved from test to train_val\n",
      "employee 894 has an observation moved from test to train_val\n",
      "employee 793 has an observation moved from test to train_val\n",
      "employee 465 has an observation moved from test to train_val\n",
      "employee 363 has an observation moved from test to train_val\n",
      "employee 992 has an observation moved from test to train_val\n",
      "employee 116 has an observation moved from test to train_val\n",
      "employee 1187 has an observation moved from test to train_val\n",
      "employee 158 has an observation moved from test to train_val\n",
      "employee 646 has an observation moved from test to train_val\n",
      "employee 1445 has an observation moved from test to train_val\n",
      "employee 359 has an observation moved from test to train_val\n",
      "employee 925 has an observation moved from test to train_val\n",
      "employee 1088 has an observation moved from test to train_val\n",
      "employee 447 has an observation moved from test to train_val\n",
      "employee 811 has an observation moved from test to train_val\n",
      "employee 180 has an observation moved from test to train_val\n",
      "employee 836 has an observation moved from test to train_val\n",
      "employee 149 has an observation moved from test to train_val\n",
      "employee 329 has an observation moved from test to train_val\n",
      "employee 526 has an observation moved from test to train_val\n",
      "employee 481 has an observation moved from test to train_val\n",
      "employee 495 has an observation moved from test to train_val\n",
      "employee 9 has an observation moved from test to train_val\n",
      "employee 1350 has an observation moved from test to train_val\n",
      "employee 242 has an observation moved from test to train_val\n",
      "employee 803 has an observation moved from test to train_val\n",
      "employee 135 has an observation moved from test to train_val\n",
      "employee 200 has an observation moved from test to train_val\n",
      "employee 37 has an observation moved from test to train_val\n",
      "employee 8 has an observation moved from test to train_val\n",
      "employee 969 has an observation moved from test to train_val\n",
      "employee 876 has an observation moved from test to train_val\n",
      "employee 614 has an observation moved from test to train_val\n",
      "employee 599 has an observation moved from test to train_val\n",
      "employee 1238 has an observation moved from test to train_val\n",
      "employee 1252 has an observation moved from test to train_val\n",
      "employee 1299 has an observation moved from test to train_val\n",
      "employee 788 has an observation moved from test to train_val\n",
      "employee 1291 has an observation moved from test to train_val\n",
      "employee 1144 has an observation moved from test to train_val\n",
      "employee 954 has an observation moved from test to train_val\n",
      "employee 1311 has an observation moved from test to train_val\n",
      "employee 779 has an observation moved from test to train_val\n"
     ]
    }
   ],
   "source": [
    "df, df_train_val, df_train, df_val, df_test = prep(df,test_size=0.25,out_of_time=out_of_time,one_in_train_val=one_in_train_val)"
   ],
   "metadata": {
    "collapsed": false,
    "pycharm": {
     "name": "#%%\n"
    }
   }
  },
  {
   "cell_type": "code",
   "execution_count": 215,
   "outputs": [
    {
     "data": {
      "text/plain": "      case:concept:name time_start    time_end         concept:name prev_act  \\\n854                 644  1/01/2001  31/01/2012  before_data_capture     none   \n414                 408  1/01/2001  31/01/2012  before_data_capture     none   \n528                 464  1/01/2001  31/01/2012  before_data_capture     none   \n534                 467  1/01/2001  31/01/2012  before_data_capture     none   \n537                 469  1/01/2001  31/01/2012  before_data_capture     none   \n...                 ...        ...         ...                  ...      ...   \n1114                777  8/01/2001  31/01/2012  before_data_capture     none   \n2135               1277  8/08/2011  31/01/2012  before_data_capture     none   \n1803               1109  8/12/2008  31/01/2012  before_data_capture     none   \n1119                779  9/01/2001  31/01/2012  before_data_capture     none   \n1824               1118  9/02/2009  31/01/2012  before_data_capture     none   \n\n      next_act contract_start contract_end    V01     V02      V03    V04  \\\n854   func_002      1/01/2012   31/12/2099  cat_7  cat_04  cat_181  cat_2   \n414   func_010     15/02/2008    5/10/2014  cat_5  cat_02  cat_135  cat_2   \n528   func_166     19/12/2011   31/12/2099  cat_3  cat_16  cat_302  cat_2   \n534   func_101      1/01/2012   31/12/2099  cat_7  cat_04  cat_164  cat_1   \n537   func_177     29/10/2007   31/12/2099  cat_2  cat_11  cat_093  cat_2   \n...        ...            ...          ...    ...     ...      ...    ...   \n1114  func_216      1/01/2001   31/12/2099  cat_2  cat_06  cat_105  cat_2   \n2135  func_262     19/08/2003   31/12/2099  cat_5  cat_02  cat_159  cat_1   \n1803  func_002      1/01/2012    9/12/2013  cat_7  cat_02  cat_132  cat_1   \n1119  func_189     30/08/2002   31/12/2099  cat_2  cat_04  cat_163  cat_2   \n1824  func_119      1/08/2001   10/02/2012  cat_2  cat_04  cat_213  cat_2   \n\n         V05    V06    V07   V08  V09   V10       V11  objective  \n854   cat_01  cat_4  cat_4  0.36  0.8  0.58  0.243421   0.666175  \n414   cat_01  cat_4  cat_3  0.16  1.0  0.42  0.151123   0.204548  \n528   cat_01  cat_4  cat_3  0.08  1.0  0.33  0.152436   0.412646  \n534   cat_01  cat_1  cat_2  0.20  1.0  0.58  0.229951   0.444580  \n537   cat_01  cat_4  cat_4  0.28  1.0  0.33  0.162006   0.493371  \n...      ...    ...    ...   ...  ...   ...       ...        ...  \n1114  cat_01  cat_4  cat_4  0.60  0.8  0.42  0.197233   0.666513  \n2135  cat_01  cat_4  cat_2  0.36  1.0  0.58  0.214737   0.664544  \n1803  cat_01  cat_2  cat_3  0.04  1.0  0.58  0.206963   0.293212  \n1119  cat_01  cat_3  cat_4  0.76  0.8  0.42  0.216891   0.499508  \n1824  cat_01  cat_2  cat_5  0.44  1.0  0.42  0.195850   0.499725  \n\n[2680 rows x 20 columns]",
      "text/html": "<div>\n<style scoped>\n    .dataframe tbody tr th:only-of-type {\n        vertical-align: middle;\n    }\n\n    .dataframe tbody tr th {\n        vertical-align: top;\n    }\n\n    .dataframe thead th {\n        text-align: right;\n    }\n</style>\n<table border=\"1\" class=\"dataframe\">\n  <thead>\n    <tr style=\"text-align: right;\">\n      <th></th>\n      <th>case:concept:name</th>\n      <th>time_start</th>\n      <th>time_end</th>\n      <th>concept:name</th>\n      <th>prev_act</th>\n      <th>next_act</th>\n      <th>contract_start</th>\n      <th>contract_end</th>\n      <th>V01</th>\n      <th>V02</th>\n      <th>V03</th>\n      <th>V04</th>\n      <th>V05</th>\n      <th>V06</th>\n      <th>V07</th>\n      <th>V08</th>\n      <th>V09</th>\n      <th>V10</th>\n      <th>V11</th>\n      <th>objective</th>\n    </tr>\n  </thead>\n  <tbody>\n    <tr>\n      <th>854</th>\n      <td>644</td>\n      <td>1/01/2001</td>\n      <td>31/01/2012</td>\n      <td>before_data_capture</td>\n      <td>none</td>\n      <td>func_002</td>\n      <td>1/01/2012</td>\n      <td>31/12/2099</td>\n      <td>cat_7</td>\n      <td>cat_04</td>\n      <td>cat_181</td>\n      <td>cat_2</td>\n      <td>cat_01</td>\n      <td>cat_4</td>\n      <td>cat_4</td>\n      <td>0.36</td>\n      <td>0.8</td>\n      <td>0.58</td>\n      <td>0.243421</td>\n      <td>0.666175</td>\n    </tr>\n    <tr>\n      <th>414</th>\n      <td>408</td>\n      <td>1/01/2001</td>\n      <td>31/01/2012</td>\n      <td>before_data_capture</td>\n      <td>none</td>\n      <td>func_010</td>\n      <td>15/02/2008</td>\n      <td>5/10/2014</td>\n      <td>cat_5</td>\n      <td>cat_02</td>\n      <td>cat_135</td>\n      <td>cat_2</td>\n      <td>cat_01</td>\n      <td>cat_4</td>\n      <td>cat_3</td>\n      <td>0.16</td>\n      <td>1.0</td>\n      <td>0.42</td>\n      <td>0.151123</td>\n      <td>0.204548</td>\n    </tr>\n    <tr>\n      <th>528</th>\n      <td>464</td>\n      <td>1/01/2001</td>\n      <td>31/01/2012</td>\n      <td>before_data_capture</td>\n      <td>none</td>\n      <td>func_166</td>\n      <td>19/12/2011</td>\n      <td>31/12/2099</td>\n      <td>cat_3</td>\n      <td>cat_16</td>\n      <td>cat_302</td>\n      <td>cat_2</td>\n      <td>cat_01</td>\n      <td>cat_4</td>\n      <td>cat_3</td>\n      <td>0.08</td>\n      <td>1.0</td>\n      <td>0.33</td>\n      <td>0.152436</td>\n      <td>0.412646</td>\n    </tr>\n    <tr>\n      <th>534</th>\n      <td>467</td>\n      <td>1/01/2001</td>\n      <td>31/01/2012</td>\n      <td>before_data_capture</td>\n      <td>none</td>\n      <td>func_101</td>\n      <td>1/01/2012</td>\n      <td>31/12/2099</td>\n      <td>cat_7</td>\n      <td>cat_04</td>\n      <td>cat_164</td>\n      <td>cat_1</td>\n      <td>cat_01</td>\n      <td>cat_1</td>\n      <td>cat_2</td>\n      <td>0.20</td>\n      <td>1.0</td>\n      <td>0.58</td>\n      <td>0.229951</td>\n      <td>0.444580</td>\n    </tr>\n    <tr>\n      <th>537</th>\n      <td>469</td>\n      <td>1/01/2001</td>\n      <td>31/01/2012</td>\n      <td>before_data_capture</td>\n      <td>none</td>\n      <td>func_177</td>\n      <td>29/10/2007</td>\n      <td>31/12/2099</td>\n      <td>cat_2</td>\n      <td>cat_11</td>\n      <td>cat_093</td>\n      <td>cat_2</td>\n      <td>cat_01</td>\n      <td>cat_4</td>\n      <td>cat_4</td>\n      <td>0.28</td>\n      <td>1.0</td>\n      <td>0.33</td>\n      <td>0.162006</td>\n      <td>0.493371</td>\n    </tr>\n    <tr>\n      <th>...</th>\n      <td>...</td>\n      <td>...</td>\n      <td>...</td>\n      <td>...</td>\n      <td>...</td>\n      <td>...</td>\n      <td>...</td>\n      <td>...</td>\n      <td>...</td>\n      <td>...</td>\n      <td>...</td>\n      <td>...</td>\n      <td>...</td>\n      <td>...</td>\n      <td>...</td>\n      <td>...</td>\n      <td>...</td>\n      <td>...</td>\n      <td>...</td>\n      <td>...</td>\n    </tr>\n    <tr>\n      <th>1114</th>\n      <td>777</td>\n      <td>8/01/2001</td>\n      <td>31/01/2012</td>\n      <td>before_data_capture</td>\n      <td>none</td>\n      <td>func_216</td>\n      <td>1/01/2001</td>\n      <td>31/12/2099</td>\n      <td>cat_2</td>\n      <td>cat_06</td>\n      <td>cat_105</td>\n      <td>cat_2</td>\n      <td>cat_01</td>\n      <td>cat_4</td>\n      <td>cat_4</td>\n      <td>0.60</td>\n      <td>0.8</td>\n      <td>0.42</td>\n      <td>0.197233</td>\n      <td>0.666513</td>\n    </tr>\n    <tr>\n      <th>2135</th>\n      <td>1277</td>\n      <td>8/08/2011</td>\n      <td>31/01/2012</td>\n      <td>before_data_capture</td>\n      <td>none</td>\n      <td>func_262</td>\n      <td>19/08/2003</td>\n      <td>31/12/2099</td>\n      <td>cat_5</td>\n      <td>cat_02</td>\n      <td>cat_159</td>\n      <td>cat_1</td>\n      <td>cat_01</td>\n      <td>cat_4</td>\n      <td>cat_2</td>\n      <td>0.36</td>\n      <td>1.0</td>\n      <td>0.58</td>\n      <td>0.214737</td>\n      <td>0.664544</td>\n    </tr>\n    <tr>\n      <th>1803</th>\n      <td>1109</td>\n      <td>8/12/2008</td>\n      <td>31/01/2012</td>\n      <td>before_data_capture</td>\n      <td>none</td>\n      <td>func_002</td>\n      <td>1/01/2012</td>\n      <td>9/12/2013</td>\n      <td>cat_7</td>\n      <td>cat_02</td>\n      <td>cat_132</td>\n      <td>cat_1</td>\n      <td>cat_01</td>\n      <td>cat_2</td>\n      <td>cat_3</td>\n      <td>0.04</td>\n      <td>1.0</td>\n      <td>0.58</td>\n      <td>0.206963</td>\n      <td>0.293212</td>\n    </tr>\n    <tr>\n      <th>1119</th>\n      <td>779</td>\n      <td>9/01/2001</td>\n      <td>31/01/2012</td>\n      <td>before_data_capture</td>\n      <td>none</td>\n      <td>func_189</td>\n      <td>30/08/2002</td>\n      <td>31/12/2099</td>\n      <td>cat_2</td>\n      <td>cat_04</td>\n      <td>cat_163</td>\n      <td>cat_2</td>\n      <td>cat_01</td>\n      <td>cat_3</td>\n      <td>cat_4</td>\n      <td>0.76</td>\n      <td>0.8</td>\n      <td>0.42</td>\n      <td>0.216891</td>\n      <td>0.499508</td>\n    </tr>\n    <tr>\n      <th>1824</th>\n      <td>1118</td>\n      <td>9/02/2009</td>\n      <td>31/01/2012</td>\n      <td>before_data_capture</td>\n      <td>none</td>\n      <td>func_119</td>\n      <td>1/08/2001</td>\n      <td>10/02/2012</td>\n      <td>cat_2</td>\n      <td>cat_04</td>\n      <td>cat_213</td>\n      <td>cat_2</td>\n      <td>cat_01</td>\n      <td>cat_2</td>\n      <td>cat_5</td>\n      <td>0.44</td>\n      <td>1.0</td>\n      <td>0.42</td>\n      <td>0.195850</td>\n      <td>0.499725</td>\n    </tr>\n  </tbody>\n</table>\n<p>2680 rows × 20 columns</p>\n</div>"
     },
     "execution_count": 215,
     "metadata": {},
     "output_type": "execute_result"
    }
   ],
   "source": [
    "df"
   ],
   "metadata": {
    "collapsed": false,
    "pycharm": {
     "name": "#%%\n"
    }
   }
  },
  {
   "cell_type": "code",
   "execution_count": 216,
   "outputs": [
    {
     "name": "stdout",
     "output_type": "stream",
     "text": [
      "2680 2183 1455 727 497\n"
     ]
    }
   ],
   "source": [
    "print(len(df),len(df_train_val),len(df_train),len(df_val),len(df_test))\n"
   ],
   "metadata": {
    "collapsed": false,
    "pycharm": {
     "name": "#%%\n"
    }
   }
  },
  {
   "cell_type": "code",
   "execution_count": 217,
   "outputs": [
    {
     "data": {
      "text/plain": "      case:concept:name time_start    time_end         concept:name prev_act  \\\n854                 644  1/01/2001  31/01/2012  before_data_capture     none   \n414                 408  1/01/2001  31/01/2012  before_data_capture     none   \n528                 464  1/01/2001  31/01/2012  before_data_capture     none   \n534                 467  1/01/2001  31/01/2012  before_data_capture     none   \n537                 469  1/01/2001  31/01/2012  before_data_capture     none   \n...                 ...        ...         ...                  ...      ...   \n1114                777  8/01/2001  31/01/2012  before_data_capture     none   \n2135               1277  8/08/2011  31/01/2012  before_data_capture     none   \n1803               1109  8/12/2008  31/01/2012  before_data_capture     none   \n1119                779  9/01/2001  31/01/2012  before_data_capture     none   \n1824               1118  9/02/2009  31/01/2012  before_data_capture     none   \n\n      next_act contract_start contract_end    V01     V02      V03    V04  \\\n854   func_002      1/01/2012   31/12/2099  cat_7  cat_04  cat_181  cat_2   \n414   func_010     15/02/2008    5/10/2014  cat_5  cat_02  cat_135  cat_2   \n528   func_166     19/12/2011   31/12/2099  cat_3  cat_16  cat_302  cat_2   \n534   func_101      1/01/2012   31/12/2099  cat_7  cat_04  cat_164  cat_1   \n537   func_177     29/10/2007   31/12/2099  cat_2  cat_11  cat_093  cat_2   \n...        ...            ...          ...    ...     ...      ...    ...   \n1114  func_216      1/01/2001   31/12/2099  cat_2  cat_06  cat_105  cat_2   \n2135  func_262     19/08/2003   31/12/2099  cat_5  cat_02  cat_159  cat_1   \n1803  func_002      1/01/2012    9/12/2013  cat_7  cat_02  cat_132  cat_1   \n1119  func_189     30/08/2002   31/12/2099  cat_2  cat_04  cat_163  cat_2   \n1824  func_119      1/08/2001   10/02/2012  cat_2  cat_04  cat_213  cat_2   \n\n         V05    V06    V07   V08  V09   V10       V11  objective  \n854   cat_01  cat_4  cat_4  0.36  0.8  0.58  0.243421   0.666175  \n414   cat_01  cat_4  cat_3  0.16  1.0  0.42  0.151123   0.204548  \n528   cat_01  cat_4  cat_3  0.08  1.0  0.33  0.152436   0.412646  \n534   cat_01  cat_1  cat_2  0.20  1.0  0.58  0.229951   0.444580  \n537   cat_01  cat_4  cat_4  0.28  1.0  0.33  0.162006   0.493371  \n...      ...    ...    ...   ...  ...   ...       ...        ...  \n1114  cat_01  cat_4  cat_4  0.60  0.8  0.42  0.197233   0.666513  \n2135  cat_01  cat_4  cat_2  0.36  1.0  0.58  0.214737   0.664544  \n1803  cat_01  cat_2  cat_3  0.04  1.0  0.58  0.206963   0.293212  \n1119  cat_01  cat_3  cat_4  0.76  0.8  0.42  0.216891   0.499508  \n1824  cat_01  cat_2  cat_5  0.44  1.0  0.42  0.195850   0.499725  \n\n[2680 rows x 20 columns]",
      "text/html": "<div>\n<style scoped>\n    .dataframe tbody tr th:only-of-type {\n        vertical-align: middle;\n    }\n\n    .dataframe tbody tr th {\n        vertical-align: top;\n    }\n\n    .dataframe thead th {\n        text-align: right;\n    }\n</style>\n<table border=\"1\" class=\"dataframe\">\n  <thead>\n    <tr style=\"text-align: right;\">\n      <th></th>\n      <th>case:concept:name</th>\n      <th>time_start</th>\n      <th>time_end</th>\n      <th>concept:name</th>\n      <th>prev_act</th>\n      <th>next_act</th>\n      <th>contract_start</th>\n      <th>contract_end</th>\n      <th>V01</th>\n      <th>V02</th>\n      <th>V03</th>\n      <th>V04</th>\n      <th>V05</th>\n      <th>V06</th>\n      <th>V07</th>\n      <th>V08</th>\n      <th>V09</th>\n      <th>V10</th>\n      <th>V11</th>\n      <th>objective</th>\n    </tr>\n  </thead>\n  <tbody>\n    <tr>\n      <th>854</th>\n      <td>644</td>\n      <td>1/01/2001</td>\n      <td>31/01/2012</td>\n      <td>before_data_capture</td>\n      <td>none</td>\n      <td>func_002</td>\n      <td>1/01/2012</td>\n      <td>31/12/2099</td>\n      <td>cat_7</td>\n      <td>cat_04</td>\n      <td>cat_181</td>\n      <td>cat_2</td>\n      <td>cat_01</td>\n      <td>cat_4</td>\n      <td>cat_4</td>\n      <td>0.36</td>\n      <td>0.8</td>\n      <td>0.58</td>\n      <td>0.243421</td>\n      <td>0.666175</td>\n    </tr>\n    <tr>\n      <th>414</th>\n      <td>408</td>\n      <td>1/01/2001</td>\n      <td>31/01/2012</td>\n      <td>before_data_capture</td>\n      <td>none</td>\n      <td>func_010</td>\n      <td>15/02/2008</td>\n      <td>5/10/2014</td>\n      <td>cat_5</td>\n      <td>cat_02</td>\n      <td>cat_135</td>\n      <td>cat_2</td>\n      <td>cat_01</td>\n      <td>cat_4</td>\n      <td>cat_3</td>\n      <td>0.16</td>\n      <td>1.0</td>\n      <td>0.42</td>\n      <td>0.151123</td>\n      <td>0.204548</td>\n    </tr>\n    <tr>\n      <th>528</th>\n      <td>464</td>\n      <td>1/01/2001</td>\n      <td>31/01/2012</td>\n      <td>before_data_capture</td>\n      <td>none</td>\n      <td>func_166</td>\n      <td>19/12/2011</td>\n      <td>31/12/2099</td>\n      <td>cat_3</td>\n      <td>cat_16</td>\n      <td>cat_302</td>\n      <td>cat_2</td>\n      <td>cat_01</td>\n      <td>cat_4</td>\n      <td>cat_3</td>\n      <td>0.08</td>\n      <td>1.0</td>\n      <td>0.33</td>\n      <td>0.152436</td>\n      <td>0.412646</td>\n    </tr>\n    <tr>\n      <th>534</th>\n      <td>467</td>\n      <td>1/01/2001</td>\n      <td>31/01/2012</td>\n      <td>before_data_capture</td>\n      <td>none</td>\n      <td>func_101</td>\n      <td>1/01/2012</td>\n      <td>31/12/2099</td>\n      <td>cat_7</td>\n      <td>cat_04</td>\n      <td>cat_164</td>\n      <td>cat_1</td>\n      <td>cat_01</td>\n      <td>cat_1</td>\n      <td>cat_2</td>\n      <td>0.20</td>\n      <td>1.0</td>\n      <td>0.58</td>\n      <td>0.229951</td>\n      <td>0.444580</td>\n    </tr>\n    <tr>\n      <th>537</th>\n      <td>469</td>\n      <td>1/01/2001</td>\n      <td>31/01/2012</td>\n      <td>before_data_capture</td>\n      <td>none</td>\n      <td>func_177</td>\n      <td>29/10/2007</td>\n      <td>31/12/2099</td>\n      <td>cat_2</td>\n      <td>cat_11</td>\n      <td>cat_093</td>\n      <td>cat_2</td>\n      <td>cat_01</td>\n      <td>cat_4</td>\n      <td>cat_4</td>\n      <td>0.28</td>\n      <td>1.0</td>\n      <td>0.33</td>\n      <td>0.162006</td>\n      <td>0.493371</td>\n    </tr>\n    <tr>\n      <th>...</th>\n      <td>...</td>\n      <td>...</td>\n      <td>...</td>\n      <td>...</td>\n      <td>...</td>\n      <td>...</td>\n      <td>...</td>\n      <td>...</td>\n      <td>...</td>\n      <td>...</td>\n      <td>...</td>\n      <td>...</td>\n      <td>...</td>\n      <td>...</td>\n      <td>...</td>\n      <td>...</td>\n      <td>...</td>\n      <td>...</td>\n      <td>...</td>\n      <td>...</td>\n    </tr>\n    <tr>\n      <th>1114</th>\n      <td>777</td>\n      <td>8/01/2001</td>\n      <td>31/01/2012</td>\n      <td>before_data_capture</td>\n      <td>none</td>\n      <td>func_216</td>\n      <td>1/01/2001</td>\n      <td>31/12/2099</td>\n      <td>cat_2</td>\n      <td>cat_06</td>\n      <td>cat_105</td>\n      <td>cat_2</td>\n      <td>cat_01</td>\n      <td>cat_4</td>\n      <td>cat_4</td>\n      <td>0.60</td>\n      <td>0.8</td>\n      <td>0.42</td>\n      <td>0.197233</td>\n      <td>0.666513</td>\n    </tr>\n    <tr>\n      <th>2135</th>\n      <td>1277</td>\n      <td>8/08/2011</td>\n      <td>31/01/2012</td>\n      <td>before_data_capture</td>\n      <td>none</td>\n      <td>func_262</td>\n      <td>19/08/2003</td>\n      <td>31/12/2099</td>\n      <td>cat_5</td>\n      <td>cat_02</td>\n      <td>cat_159</td>\n      <td>cat_1</td>\n      <td>cat_01</td>\n      <td>cat_4</td>\n      <td>cat_2</td>\n      <td>0.36</td>\n      <td>1.0</td>\n      <td>0.58</td>\n      <td>0.214737</td>\n      <td>0.664544</td>\n    </tr>\n    <tr>\n      <th>1803</th>\n      <td>1109</td>\n      <td>8/12/2008</td>\n      <td>31/01/2012</td>\n      <td>before_data_capture</td>\n      <td>none</td>\n      <td>func_002</td>\n      <td>1/01/2012</td>\n      <td>9/12/2013</td>\n      <td>cat_7</td>\n      <td>cat_02</td>\n      <td>cat_132</td>\n      <td>cat_1</td>\n      <td>cat_01</td>\n      <td>cat_2</td>\n      <td>cat_3</td>\n      <td>0.04</td>\n      <td>1.0</td>\n      <td>0.58</td>\n      <td>0.206963</td>\n      <td>0.293212</td>\n    </tr>\n    <tr>\n      <th>1119</th>\n      <td>779</td>\n      <td>9/01/2001</td>\n      <td>31/01/2012</td>\n      <td>before_data_capture</td>\n      <td>none</td>\n      <td>func_189</td>\n      <td>30/08/2002</td>\n      <td>31/12/2099</td>\n      <td>cat_2</td>\n      <td>cat_04</td>\n      <td>cat_163</td>\n      <td>cat_2</td>\n      <td>cat_01</td>\n      <td>cat_3</td>\n      <td>cat_4</td>\n      <td>0.76</td>\n      <td>0.8</td>\n      <td>0.42</td>\n      <td>0.216891</td>\n      <td>0.499508</td>\n    </tr>\n    <tr>\n      <th>1824</th>\n      <td>1118</td>\n      <td>9/02/2009</td>\n      <td>31/01/2012</td>\n      <td>before_data_capture</td>\n      <td>none</td>\n      <td>func_119</td>\n      <td>1/08/2001</td>\n      <td>10/02/2012</td>\n      <td>cat_2</td>\n      <td>cat_04</td>\n      <td>cat_213</td>\n      <td>cat_2</td>\n      <td>cat_01</td>\n      <td>cat_2</td>\n      <td>cat_5</td>\n      <td>0.44</td>\n      <td>1.0</td>\n      <td>0.42</td>\n      <td>0.195850</td>\n      <td>0.499725</td>\n    </tr>\n  </tbody>\n</table>\n<p>2680 rows × 20 columns</p>\n</div>"
     },
     "execution_count": 217,
     "metadata": {},
     "output_type": "execute_result"
    }
   ],
   "source": [
    "df"
   ],
   "metadata": {
    "collapsed": false,
    "pycharm": {
     "name": "#%%\n"
    }
   }
  },
  {
   "cell_type": "code",
   "execution_count": 218,
   "outputs": [
    {
     "data": {
      "text/plain": "'\\n\\ndf is original data (format event log),\\npiv_df is a dataframe\\n    piv_df_train\\n    piv_df_test\\nR is an array\\n    R_train is an array\\n    R_test is an array\\nnR_train is the predicted matrix R, based on R_train as input\\n'"
     },
     "execution_count": 218,
     "metadata": {},
     "output_type": "execute_result"
    }
   ],
   "source": [
    "\"\"\"\n",
    "\n",
    "df is original data (format event log),\n",
    "piv_df is a dataframe\n",
    "    piv_df_train\n",
    "    piv_df_test\n",
    "R is an array\n",
    "    R_train is an array\n",
    "    R_test is an array\n",
    "nR_train is the predicted matrix R, based on R_train as input\n",
    "\"\"\""
   ],
   "metadata": {
    "collapsed": false,
    "pycharm": {
     "name": "#%%\n"
    }
   }
  },
  {
   "cell_type": "code",
   "execution_count": 219,
   "outputs": [],
   "source": [
    "piv, piv_train_val,piv_train,piv_val,piv_test = df_to_piv(df,df_train_val,df_train,df_val,df_test)"
   ],
   "metadata": {
    "collapsed": false,
    "pycharm": {
     "name": "#%%\n"
    }
   }
  },
  {
   "cell_type": "code",
   "execution_count": 220,
   "outputs": [
    {
     "data": {
      "text/plain": "      case:concept:name time_start    time_end         concept:name prev_act  \\\n854                 644  1/01/2001  31/01/2012  before_data_capture     none   \n414                 408  1/01/2001  31/01/2012  before_data_capture     none   \n528                 464  1/01/2001  31/01/2012  before_data_capture     none   \n534                 467  1/01/2001  31/01/2012  before_data_capture     none   \n537                 469  1/01/2001  31/01/2012  before_data_capture     none   \n...                 ...        ...         ...                  ...      ...   \n1114                777  8/01/2001  31/01/2012  before_data_capture     none   \n2135               1277  8/08/2011  31/01/2012  before_data_capture     none   \n1803               1109  8/12/2008  31/01/2012  before_data_capture     none   \n1119                779  9/01/2001  31/01/2012  before_data_capture     none   \n1824               1118  9/02/2009  31/01/2012  before_data_capture     none   \n\n      next_act contract_start contract_end    V01     V02      V03    V04  \\\n854   func_002      1/01/2012   31/12/2099  cat_7  cat_04  cat_181  cat_2   \n414   func_010     15/02/2008    5/10/2014  cat_5  cat_02  cat_135  cat_2   \n528   func_166     19/12/2011   31/12/2099  cat_3  cat_16  cat_302  cat_2   \n534   func_101      1/01/2012   31/12/2099  cat_7  cat_04  cat_164  cat_1   \n537   func_177     29/10/2007   31/12/2099  cat_2  cat_11  cat_093  cat_2   \n...        ...            ...          ...    ...     ...      ...    ...   \n1114  func_216      1/01/2001   31/12/2099  cat_2  cat_06  cat_105  cat_2   \n2135  func_262     19/08/2003   31/12/2099  cat_5  cat_02  cat_159  cat_1   \n1803  func_002      1/01/2012    9/12/2013  cat_7  cat_02  cat_132  cat_1   \n1119  func_189     30/08/2002   31/12/2099  cat_2  cat_04  cat_163  cat_2   \n1824  func_119      1/08/2001   10/02/2012  cat_2  cat_04  cat_213  cat_2   \n\n         V05    V06    V07   V08  V09   V10       V11  objective  \n854   cat_01  cat_4  cat_4  0.36  0.8  0.58  0.243421   0.666175  \n414   cat_01  cat_4  cat_3  0.16  1.0  0.42  0.151123   0.204548  \n528   cat_01  cat_4  cat_3  0.08  1.0  0.33  0.152436   0.412646  \n534   cat_01  cat_1  cat_2  0.20  1.0  0.58  0.229951   0.444580  \n537   cat_01  cat_4  cat_4  0.28  1.0  0.33  0.162006   0.493371  \n...      ...    ...    ...   ...  ...   ...       ...        ...  \n1114  cat_01  cat_4  cat_4  0.60  0.8  0.42  0.197233   0.666513  \n2135  cat_01  cat_4  cat_2  0.36  1.0  0.58  0.214737   0.664544  \n1803  cat_01  cat_2  cat_3  0.04  1.0  0.58  0.206963   0.293212  \n1119  cat_01  cat_3  cat_4  0.76  0.8  0.42  0.216891   0.499508  \n1824  cat_01  cat_2  cat_5  0.44  1.0  0.42  0.195850   0.499725  \n\n[2680 rows x 20 columns]",
      "text/html": "<div>\n<style scoped>\n    .dataframe tbody tr th:only-of-type {\n        vertical-align: middle;\n    }\n\n    .dataframe tbody tr th {\n        vertical-align: top;\n    }\n\n    .dataframe thead th {\n        text-align: right;\n    }\n</style>\n<table border=\"1\" class=\"dataframe\">\n  <thead>\n    <tr style=\"text-align: right;\">\n      <th></th>\n      <th>case:concept:name</th>\n      <th>time_start</th>\n      <th>time_end</th>\n      <th>concept:name</th>\n      <th>prev_act</th>\n      <th>next_act</th>\n      <th>contract_start</th>\n      <th>contract_end</th>\n      <th>V01</th>\n      <th>V02</th>\n      <th>V03</th>\n      <th>V04</th>\n      <th>V05</th>\n      <th>V06</th>\n      <th>V07</th>\n      <th>V08</th>\n      <th>V09</th>\n      <th>V10</th>\n      <th>V11</th>\n      <th>objective</th>\n    </tr>\n  </thead>\n  <tbody>\n    <tr>\n      <th>854</th>\n      <td>644</td>\n      <td>1/01/2001</td>\n      <td>31/01/2012</td>\n      <td>before_data_capture</td>\n      <td>none</td>\n      <td>func_002</td>\n      <td>1/01/2012</td>\n      <td>31/12/2099</td>\n      <td>cat_7</td>\n      <td>cat_04</td>\n      <td>cat_181</td>\n      <td>cat_2</td>\n      <td>cat_01</td>\n      <td>cat_4</td>\n      <td>cat_4</td>\n      <td>0.36</td>\n      <td>0.8</td>\n      <td>0.58</td>\n      <td>0.243421</td>\n      <td>0.666175</td>\n    </tr>\n    <tr>\n      <th>414</th>\n      <td>408</td>\n      <td>1/01/2001</td>\n      <td>31/01/2012</td>\n      <td>before_data_capture</td>\n      <td>none</td>\n      <td>func_010</td>\n      <td>15/02/2008</td>\n      <td>5/10/2014</td>\n      <td>cat_5</td>\n      <td>cat_02</td>\n      <td>cat_135</td>\n      <td>cat_2</td>\n      <td>cat_01</td>\n      <td>cat_4</td>\n      <td>cat_3</td>\n      <td>0.16</td>\n      <td>1.0</td>\n      <td>0.42</td>\n      <td>0.151123</td>\n      <td>0.204548</td>\n    </tr>\n    <tr>\n      <th>528</th>\n      <td>464</td>\n      <td>1/01/2001</td>\n      <td>31/01/2012</td>\n      <td>before_data_capture</td>\n      <td>none</td>\n      <td>func_166</td>\n      <td>19/12/2011</td>\n      <td>31/12/2099</td>\n      <td>cat_3</td>\n      <td>cat_16</td>\n      <td>cat_302</td>\n      <td>cat_2</td>\n      <td>cat_01</td>\n      <td>cat_4</td>\n      <td>cat_3</td>\n      <td>0.08</td>\n      <td>1.0</td>\n      <td>0.33</td>\n      <td>0.152436</td>\n      <td>0.412646</td>\n    </tr>\n    <tr>\n      <th>534</th>\n      <td>467</td>\n      <td>1/01/2001</td>\n      <td>31/01/2012</td>\n      <td>before_data_capture</td>\n      <td>none</td>\n      <td>func_101</td>\n      <td>1/01/2012</td>\n      <td>31/12/2099</td>\n      <td>cat_7</td>\n      <td>cat_04</td>\n      <td>cat_164</td>\n      <td>cat_1</td>\n      <td>cat_01</td>\n      <td>cat_1</td>\n      <td>cat_2</td>\n      <td>0.20</td>\n      <td>1.0</td>\n      <td>0.58</td>\n      <td>0.229951</td>\n      <td>0.444580</td>\n    </tr>\n    <tr>\n      <th>537</th>\n      <td>469</td>\n      <td>1/01/2001</td>\n      <td>31/01/2012</td>\n      <td>before_data_capture</td>\n      <td>none</td>\n      <td>func_177</td>\n      <td>29/10/2007</td>\n      <td>31/12/2099</td>\n      <td>cat_2</td>\n      <td>cat_11</td>\n      <td>cat_093</td>\n      <td>cat_2</td>\n      <td>cat_01</td>\n      <td>cat_4</td>\n      <td>cat_4</td>\n      <td>0.28</td>\n      <td>1.0</td>\n      <td>0.33</td>\n      <td>0.162006</td>\n      <td>0.493371</td>\n    </tr>\n    <tr>\n      <th>...</th>\n      <td>...</td>\n      <td>...</td>\n      <td>...</td>\n      <td>...</td>\n      <td>...</td>\n      <td>...</td>\n      <td>...</td>\n      <td>...</td>\n      <td>...</td>\n      <td>...</td>\n      <td>...</td>\n      <td>...</td>\n      <td>...</td>\n      <td>...</td>\n      <td>...</td>\n      <td>...</td>\n      <td>...</td>\n      <td>...</td>\n      <td>...</td>\n      <td>...</td>\n    </tr>\n    <tr>\n      <th>1114</th>\n      <td>777</td>\n      <td>8/01/2001</td>\n      <td>31/01/2012</td>\n      <td>before_data_capture</td>\n      <td>none</td>\n      <td>func_216</td>\n      <td>1/01/2001</td>\n      <td>31/12/2099</td>\n      <td>cat_2</td>\n      <td>cat_06</td>\n      <td>cat_105</td>\n      <td>cat_2</td>\n      <td>cat_01</td>\n      <td>cat_4</td>\n      <td>cat_4</td>\n      <td>0.60</td>\n      <td>0.8</td>\n      <td>0.42</td>\n      <td>0.197233</td>\n      <td>0.666513</td>\n    </tr>\n    <tr>\n      <th>2135</th>\n      <td>1277</td>\n      <td>8/08/2011</td>\n      <td>31/01/2012</td>\n      <td>before_data_capture</td>\n      <td>none</td>\n      <td>func_262</td>\n      <td>19/08/2003</td>\n      <td>31/12/2099</td>\n      <td>cat_5</td>\n      <td>cat_02</td>\n      <td>cat_159</td>\n      <td>cat_1</td>\n      <td>cat_01</td>\n      <td>cat_4</td>\n      <td>cat_2</td>\n      <td>0.36</td>\n      <td>1.0</td>\n      <td>0.58</td>\n      <td>0.214737</td>\n      <td>0.664544</td>\n    </tr>\n    <tr>\n      <th>1803</th>\n      <td>1109</td>\n      <td>8/12/2008</td>\n      <td>31/01/2012</td>\n      <td>before_data_capture</td>\n      <td>none</td>\n      <td>func_002</td>\n      <td>1/01/2012</td>\n      <td>9/12/2013</td>\n      <td>cat_7</td>\n      <td>cat_02</td>\n      <td>cat_132</td>\n      <td>cat_1</td>\n      <td>cat_01</td>\n      <td>cat_2</td>\n      <td>cat_3</td>\n      <td>0.04</td>\n      <td>1.0</td>\n      <td>0.58</td>\n      <td>0.206963</td>\n      <td>0.293212</td>\n    </tr>\n    <tr>\n      <th>1119</th>\n      <td>779</td>\n      <td>9/01/2001</td>\n      <td>31/01/2012</td>\n      <td>before_data_capture</td>\n      <td>none</td>\n      <td>func_189</td>\n      <td>30/08/2002</td>\n      <td>31/12/2099</td>\n      <td>cat_2</td>\n      <td>cat_04</td>\n      <td>cat_163</td>\n      <td>cat_2</td>\n      <td>cat_01</td>\n      <td>cat_3</td>\n      <td>cat_4</td>\n      <td>0.76</td>\n      <td>0.8</td>\n      <td>0.42</td>\n      <td>0.216891</td>\n      <td>0.499508</td>\n    </tr>\n    <tr>\n      <th>1824</th>\n      <td>1118</td>\n      <td>9/02/2009</td>\n      <td>31/01/2012</td>\n      <td>before_data_capture</td>\n      <td>none</td>\n      <td>func_119</td>\n      <td>1/08/2001</td>\n      <td>10/02/2012</td>\n      <td>cat_2</td>\n      <td>cat_04</td>\n      <td>cat_213</td>\n      <td>cat_2</td>\n      <td>cat_01</td>\n      <td>cat_2</td>\n      <td>cat_5</td>\n      <td>0.44</td>\n      <td>1.0</td>\n      <td>0.42</td>\n      <td>0.195850</td>\n      <td>0.499725</td>\n    </tr>\n  </tbody>\n</table>\n<p>2680 rows × 20 columns</p>\n</div>"
     },
     "execution_count": 220,
     "metadata": {},
     "output_type": "execute_result"
    }
   ],
   "source": [
    "df"
   ],
   "metadata": {
    "collapsed": false,
    "pycharm": {
     "name": "#%%\n"
    }
   }
  },
  {
   "cell_type": "code",
   "execution_count": 221,
   "outputs": [
    {
     "data": {
      "text/plain": "concept:name       before_data_capture  func_001  func_002  func_004  \\\ncase:concept:name                                                      \n1                                  NaN       NaN       NaN       NaN   \n2                                  NaN  0.541067       NaN       NaN   \n5                                  NaN       NaN       NaN       NaN   \n8                                  NaN       NaN       NaN       NaN   \n9                                  NaN       NaN       NaN       NaN   \n...                                ...       ...       ...       ...   \n1571                          0.064053       NaN       NaN       NaN   \n1572                          0.499846       NaN       NaN       NaN   \n1573                               NaN       NaN  0.452518       NaN   \n1574                          0.499846       NaN       NaN       NaN   \n1575                          0.207734       NaN  0.355111       NaN   \n\nconcept:name       func_005  func_006  func_007  func_008  func_010  func_011  \\\ncase:concept:name                                                               \n1                       NaN       NaN       NaN       NaN       NaN       NaN   \n2                       NaN       NaN       NaN       NaN       NaN       NaN   \n5                       NaN       NaN       NaN       NaN       NaN       NaN   \n8                       NaN       NaN       NaN       NaN       NaN       NaN   \n9                       NaN       NaN       NaN       NaN       NaN       NaN   \n...                     ...       ...       ...       ...       ...       ...   \n1571                    NaN       NaN       NaN       NaN       NaN       NaN   \n1572                    NaN       NaN       NaN       NaN  0.467654       NaN   \n1573                    NaN       NaN       NaN       NaN       NaN       NaN   \n1574                    NaN       NaN       NaN       NaN       NaN       NaN   \n1575                    NaN       NaN       NaN       NaN       NaN       NaN   \n\nconcept:name       ...  func_252  func_253  func_254  func_255  func_256  \\\ncase:concept:name  ...                                                     \n1                  ...       NaN       NaN       NaN  0.535013       NaN   \n2                  ...       NaN       NaN       NaN  0.535013       NaN   \n5                  ...       NaN       NaN       NaN  0.358973       NaN   \n8                  ...       NaN       NaN       NaN       NaN       NaN   \n9                  ...       NaN       NaN       NaN       NaN       NaN   \n...                ...       ...       ...       ...       ...       ...   \n1571               ...       NaN       NaN  0.467571       NaN       NaN   \n1572               ...       NaN       NaN       NaN       NaN       NaN   \n1573               ...       NaN       NaN       NaN       NaN       NaN   \n1574               ...       NaN       NaN       NaN       NaN       NaN   \n1575               ...       NaN       NaN       NaN       NaN       NaN   \n\nconcept:name       func_257  func_258  func_262  func_263  function_265  \ncase:concept:name                                                        \n1                       NaN       NaN       NaN       NaN           NaN  \n2                       NaN       NaN       NaN       NaN           NaN  \n5                       NaN       NaN       NaN       NaN           NaN  \n8                       NaN       NaN       NaN       NaN           NaN  \n9                       NaN       NaN       NaN       NaN           NaN  \n...                     ...       ...       ...       ...           ...  \n1571                    NaN       NaN       NaN       NaN           NaN  \n1572                    NaN       NaN       NaN       NaN           NaN  \n1573                    NaN       NaN       NaN       NaN           NaN  \n1574                    NaN       NaN       NaN       NaN           NaN  \n1575                    NaN       NaN       NaN       NaN           NaN  \n\n[1238 rows x 209 columns]",
      "text/html": "<div>\n<style scoped>\n    .dataframe tbody tr th:only-of-type {\n        vertical-align: middle;\n    }\n\n    .dataframe tbody tr th {\n        vertical-align: top;\n    }\n\n    .dataframe thead th {\n        text-align: right;\n    }\n</style>\n<table border=\"1\" class=\"dataframe\">\n  <thead>\n    <tr style=\"text-align: right;\">\n      <th>concept:name</th>\n      <th>before_data_capture</th>\n      <th>func_001</th>\n      <th>func_002</th>\n      <th>func_004</th>\n      <th>func_005</th>\n      <th>func_006</th>\n      <th>func_007</th>\n      <th>func_008</th>\n      <th>func_010</th>\n      <th>func_011</th>\n      <th>...</th>\n      <th>func_252</th>\n      <th>func_253</th>\n      <th>func_254</th>\n      <th>func_255</th>\n      <th>func_256</th>\n      <th>func_257</th>\n      <th>func_258</th>\n      <th>func_262</th>\n      <th>func_263</th>\n      <th>function_265</th>\n    </tr>\n    <tr>\n      <th>case:concept:name</th>\n      <th></th>\n      <th></th>\n      <th></th>\n      <th></th>\n      <th></th>\n      <th></th>\n      <th></th>\n      <th></th>\n      <th></th>\n      <th></th>\n      <th></th>\n      <th></th>\n      <th></th>\n      <th></th>\n      <th></th>\n      <th></th>\n      <th></th>\n      <th></th>\n      <th></th>\n      <th></th>\n      <th></th>\n    </tr>\n  </thead>\n  <tbody>\n    <tr>\n      <th>1</th>\n      <td>NaN</td>\n      <td>NaN</td>\n      <td>NaN</td>\n      <td>NaN</td>\n      <td>NaN</td>\n      <td>NaN</td>\n      <td>NaN</td>\n      <td>NaN</td>\n      <td>NaN</td>\n      <td>NaN</td>\n      <td>...</td>\n      <td>NaN</td>\n      <td>NaN</td>\n      <td>NaN</td>\n      <td>0.535013</td>\n      <td>NaN</td>\n      <td>NaN</td>\n      <td>NaN</td>\n      <td>NaN</td>\n      <td>NaN</td>\n      <td>NaN</td>\n    </tr>\n    <tr>\n      <th>2</th>\n      <td>NaN</td>\n      <td>0.541067</td>\n      <td>NaN</td>\n      <td>NaN</td>\n      <td>NaN</td>\n      <td>NaN</td>\n      <td>NaN</td>\n      <td>NaN</td>\n      <td>NaN</td>\n      <td>NaN</td>\n      <td>...</td>\n      <td>NaN</td>\n      <td>NaN</td>\n      <td>NaN</td>\n      <td>0.535013</td>\n      <td>NaN</td>\n      <td>NaN</td>\n      <td>NaN</td>\n      <td>NaN</td>\n      <td>NaN</td>\n      <td>NaN</td>\n    </tr>\n    <tr>\n      <th>5</th>\n      <td>NaN</td>\n      <td>NaN</td>\n      <td>NaN</td>\n      <td>NaN</td>\n      <td>NaN</td>\n      <td>NaN</td>\n      <td>NaN</td>\n      <td>NaN</td>\n      <td>NaN</td>\n      <td>NaN</td>\n      <td>...</td>\n      <td>NaN</td>\n      <td>NaN</td>\n      <td>NaN</td>\n      <td>0.358973</td>\n      <td>NaN</td>\n      <td>NaN</td>\n      <td>NaN</td>\n      <td>NaN</td>\n      <td>NaN</td>\n      <td>NaN</td>\n    </tr>\n    <tr>\n      <th>8</th>\n      <td>NaN</td>\n      <td>NaN</td>\n      <td>NaN</td>\n      <td>NaN</td>\n      <td>NaN</td>\n      <td>NaN</td>\n      <td>NaN</td>\n      <td>NaN</td>\n      <td>NaN</td>\n      <td>NaN</td>\n      <td>...</td>\n      <td>NaN</td>\n      <td>NaN</td>\n      <td>NaN</td>\n      <td>NaN</td>\n      <td>NaN</td>\n      <td>NaN</td>\n      <td>NaN</td>\n      <td>NaN</td>\n      <td>NaN</td>\n      <td>NaN</td>\n    </tr>\n    <tr>\n      <th>9</th>\n      <td>NaN</td>\n      <td>NaN</td>\n      <td>NaN</td>\n      <td>NaN</td>\n      <td>NaN</td>\n      <td>NaN</td>\n      <td>NaN</td>\n      <td>NaN</td>\n      <td>NaN</td>\n      <td>NaN</td>\n      <td>...</td>\n      <td>NaN</td>\n      <td>NaN</td>\n      <td>NaN</td>\n      <td>NaN</td>\n      <td>NaN</td>\n      <td>NaN</td>\n      <td>NaN</td>\n      <td>NaN</td>\n      <td>NaN</td>\n      <td>NaN</td>\n    </tr>\n    <tr>\n      <th>...</th>\n      <td>...</td>\n      <td>...</td>\n      <td>...</td>\n      <td>...</td>\n      <td>...</td>\n      <td>...</td>\n      <td>...</td>\n      <td>...</td>\n      <td>...</td>\n      <td>...</td>\n      <td>...</td>\n      <td>...</td>\n      <td>...</td>\n      <td>...</td>\n      <td>...</td>\n      <td>...</td>\n      <td>...</td>\n      <td>...</td>\n      <td>...</td>\n      <td>...</td>\n      <td>...</td>\n    </tr>\n    <tr>\n      <th>1571</th>\n      <td>0.064053</td>\n      <td>NaN</td>\n      <td>NaN</td>\n      <td>NaN</td>\n      <td>NaN</td>\n      <td>NaN</td>\n      <td>NaN</td>\n      <td>NaN</td>\n      <td>NaN</td>\n      <td>NaN</td>\n      <td>...</td>\n      <td>NaN</td>\n      <td>NaN</td>\n      <td>0.467571</td>\n      <td>NaN</td>\n      <td>NaN</td>\n      <td>NaN</td>\n      <td>NaN</td>\n      <td>NaN</td>\n      <td>NaN</td>\n      <td>NaN</td>\n    </tr>\n    <tr>\n      <th>1572</th>\n      <td>0.499846</td>\n      <td>NaN</td>\n      <td>NaN</td>\n      <td>NaN</td>\n      <td>NaN</td>\n      <td>NaN</td>\n      <td>NaN</td>\n      <td>NaN</td>\n      <td>0.467654</td>\n      <td>NaN</td>\n      <td>...</td>\n      <td>NaN</td>\n      <td>NaN</td>\n      <td>NaN</td>\n      <td>NaN</td>\n      <td>NaN</td>\n      <td>NaN</td>\n      <td>NaN</td>\n      <td>NaN</td>\n      <td>NaN</td>\n      <td>NaN</td>\n    </tr>\n    <tr>\n      <th>1573</th>\n      <td>NaN</td>\n      <td>NaN</td>\n      <td>0.452518</td>\n      <td>NaN</td>\n      <td>NaN</td>\n      <td>NaN</td>\n      <td>NaN</td>\n      <td>NaN</td>\n      <td>NaN</td>\n      <td>NaN</td>\n      <td>...</td>\n      <td>NaN</td>\n      <td>NaN</td>\n      <td>NaN</td>\n      <td>NaN</td>\n      <td>NaN</td>\n      <td>NaN</td>\n      <td>NaN</td>\n      <td>NaN</td>\n      <td>NaN</td>\n      <td>NaN</td>\n    </tr>\n    <tr>\n      <th>1574</th>\n      <td>0.499846</td>\n      <td>NaN</td>\n      <td>NaN</td>\n      <td>NaN</td>\n      <td>NaN</td>\n      <td>NaN</td>\n      <td>NaN</td>\n      <td>NaN</td>\n      <td>NaN</td>\n      <td>NaN</td>\n      <td>...</td>\n      <td>NaN</td>\n      <td>NaN</td>\n      <td>NaN</td>\n      <td>NaN</td>\n      <td>NaN</td>\n      <td>NaN</td>\n      <td>NaN</td>\n      <td>NaN</td>\n      <td>NaN</td>\n      <td>NaN</td>\n    </tr>\n    <tr>\n      <th>1575</th>\n      <td>0.207734</td>\n      <td>NaN</td>\n      <td>0.355111</td>\n      <td>NaN</td>\n      <td>NaN</td>\n      <td>NaN</td>\n      <td>NaN</td>\n      <td>NaN</td>\n      <td>NaN</td>\n      <td>NaN</td>\n      <td>...</td>\n      <td>NaN</td>\n      <td>NaN</td>\n      <td>NaN</td>\n      <td>NaN</td>\n      <td>NaN</td>\n      <td>NaN</td>\n      <td>NaN</td>\n      <td>NaN</td>\n      <td>NaN</td>\n      <td>NaN</td>\n    </tr>\n  </tbody>\n</table>\n<p>1238 rows × 209 columns</p>\n</div>"
     },
     "execution_count": 221,
     "metadata": {},
     "output_type": "execute_result"
    }
   ],
   "source": [
    "piv"
   ],
   "metadata": {
    "collapsed": false,
    "pycharm": {
     "name": "#%%\n"
    }
   }
  },
  {
   "cell_type": "code",
   "execution_count": 222,
   "outputs": [],
   "source": [
    "R,R_train_val,R_train,R_val,R_test = piv_to_R(piv, piv_train_val,piv_train,piv_val,piv_test)"
   ],
   "metadata": {
    "collapsed": false,
    "pycharm": {
     "name": "#%%\n"
    }
   }
  },
  {
   "cell_type": "code",
   "execution_count": 223,
   "outputs": [
    {
     "name": "stdout",
     "output_type": "stream",
     "text": [
      "the size of the dataframe is: 53600\n",
      "amount of employees: 1238\n",
      "amount of jobs: 209\n"
     ]
    }
   ],
   "source": [
    "#Details on dataset:\n",
    "\n",
    "#Read users and item indices (to later reconstruct the ratings matrix)\n",
    "empl = piv.index.values.tolist()\n",
    "jobs = piv.columns.values.tolist()\n",
    "\n",
    "print(f'the size of the dataframe is: {df.size}')\n",
    "print(f'amount of employees: {len(empl)}')\n",
    "print(f'amount of jobs: {len(jobs)}')\n",
    "\n",
    "#print('the size of the dataframe is: ' + str(df.size))\n",
    "#print('amount of employees: ' + str(len(empl)))\n",
    "#print('amount of jobs: ' + str(len(jobs)))\n"
   ],
   "metadata": {
    "collapsed": false,
    "pycharm": {
     "name": "#%%\n"
    }
   }
  },
  {
   "cell_type": "code",
   "execution_count": 224,
   "outputs": [
    {
     "data": {
      "text/plain": "['V06', 'V08']"
     },
     "execution_count": 224,
     "metadata": {},
     "output_type": "execute_result"
    }
   ],
   "source": [
    "#The vector on which similarities between employees are calculated\n",
    "cov_array_personal"
   ],
   "metadata": {
    "collapsed": false,
    "pycharm": {
     "name": "#%%\n"
    }
   }
  },
  {
   "cell_type": "markdown",
   "source": [
    "# 3. Hyperpara tuning"
   ],
   "metadata": {
    "collapsed": false,
    "pycharm": {
     "name": "#%% md\n"
    }
   }
  },
  {
   "cell_type": "code",
   "execution_count": 229,
   "outputs": [],
   "source": [
    "#initialization for matrix factorization\n",
    "N = len(R) # N: num of employees\n",
    "M = len(R[0]) # M: num of jobs\n",
    "#np.random.seed(0)"
   ],
   "metadata": {
    "collapsed": false,
    "pycharm": {
     "name": "#%%\n"
    }
   }
  },
  {
   "cell_type": "code",
   "execution_count": 230,
   "outputs": [],
   "source": [
    "def load_SM(datasets):\n",
    "    if datasets[0]:\n",
    "        SM = np.load('similarity_matrix/SM_toy_data.npy')\n",
    "    if datasets[1]:\n",
    "        SM = np.load('similarity_matrix/SM_dataset_1.npy')\n",
    "    if datasets[2]:\n",
    "        SM = np.load('similarity_matrix/SM_dataset_2.npy')\n",
    "    if datasets[3]:\n",
    "        SM = np.load('similarity_matrix/SM_dataset_3.npy')\n",
    "    return SM"
   ],
   "metadata": {
    "collapsed": false,
    "pycharm": {
     "name": "#%%\n"
    }
   }
  },
  {
   "cell_type": "code",
   "execution_count": 231,
   "outputs": [],
   "source": [
    "def calc_SM(datasets,df,N,cov_array_personal,cov_array_personal_cat,cov_array_personal_num):\n",
    "    SM = sim(df,N,cov_array_personal,cov_array_personal_cat,cov_array_personal_num)\n",
    "    if datasets[0]:\n",
    "        np.save('similarity_matrix/SM_toy_data.npy', SM)\n",
    "    if datasets[1]:\n",
    "        np.save('similarity_matrix/SM_dataset_1.npy', SM)\n",
    "    if datasets[2]:\n",
    "        np.save('similarity_matrix/SM_dataset_2.npy', SM)\n",
    "    if datasets[3]:\n",
    "        np.save('similarity_matrix/SM_dataset_3.npy', SM)\n",
    "    return SM"
   ],
   "metadata": {
    "collapsed": false,
    "pycharm": {
     "name": "#%%\n"
    }
   }
  },
  {
   "cell_type": "code",
   "execution_count": 232,
   "outputs": [],
   "source": [
    "if load_similarity_matrix:\n",
    "    similarity_matrix = load_SM(datasets)\n",
    "else:\n",
    "    similarity_matrix = calc_SM(datasets,df,N,cov_array_personal,cov_array_personal_cat,cov_array_personal_num)\n"
   ],
   "metadata": {
    "collapsed": false,
    "pycharm": {
     "name": "#%%\n"
    }
   }
  },
  {
   "cell_type": "code",
   "execution_count": 233,
   "outputs": [],
   "source": [
    "#if True, overwrite previously assigned values\n",
    "if tune_hyperpara_CF:\n",
    "    lambda_optimal_cf, beta_optimal_cf, alpha_optimal_cf, L_optimal_cf, steps_optimal_cf = hyperpara_tuning(R_train=R_train,R_val=R_val,sr=0,objective=1,sm=similarity_matrix,lambda_array=lambda_array, beta_array=beta_array, alpha_array=alpha_array, L_array=L_array, steps_array=steps_array)"
   ],
   "metadata": {
    "collapsed": false,
    "pycharm": {
     "name": "#%%\n"
    }
   }
  },
  {
   "cell_type": "code",
   "execution_count": 234,
   "outputs": [],
   "source": [
    "#if True, overwrite previously assigned values\n",
    "if tune_hyperpara_CF_SR:\n",
    "    lambda_optimal_cf_sr, beta_optimal_cf_sr, alpha_optimal_cf_sr, L_optimal_cf_sr, steps_optimal_cf_sr = hyperpara_tuning(R_train=R_train,R_val=R_val,sr=1,objective=1,sm=similarity_matrix,lambda_array=lambda_array, beta_array=beta_array, alpha_array=alpha_array, L_array=L_array, steps_array=steps_array)"
   ],
   "metadata": {
    "collapsed": false,
    "pycharm": {
     "name": "#%%\n"
    }
   }
  },
  {
   "cell_type": "code",
   "execution_count": 235,
   "outputs": [
    {
     "name": "stdout",
     "output_type": "stream",
     "text": [
      "optimal hyperparameters for CF:\n",
      "lambda: 0.050 beta: 0.000 alpha: 0.001 L: 10.000 steps: 1000.000\n",
      "optimal hyperparameters for CF_SR:\n",
      "lambda: 0.020 beta: 0.100 alpha: 0.001 L: 5.000 steps: 3000.000\n"
     ]
    }
   ],
   "source": [
    "print(\"optimal hyperparameters for CF:\")\n",
    "print(\"lambda: {:.3f} beta: {:.3f} alpha: {:.3f} L: {:.3f} steps: {:.3f}\".format(lambda_optimal_cf, beta_optimal_cf, alpha_optimal_cf, L_optimal_cf, steps_optimal_cf))\n",
    "\n",
    "print(\"optimal hyperparameters for CF_SR:\")\n",
    "print(\"lambda: {:.3f} beta: {:.3f} alpha: {:.3f} L: {:.3f} steps: {:.3f}\".format(lambda_optimal_cf_sr, beta_optimal_cf_sr, alpha_optimal_cf_sr, L_optimal_cf_sr, steps_optimal_cf_sr))\n",
    "\n",
    "\n",
    "#print('optimal hyperparameters for CF:')\n",
    "#print('lambda:'+ str(lambda_optimal_cf), 'beta:'+ str(beta_optimal_cf), 'alpha:'+ str(alpha_optimal_cf), 'L:'+ str(L_optimal_cf), 'steps:'+ str(steps_optimal_cf))\n",
    "\n",
    "#print('optimal hyperparameters for CF_SR:')\n",
    "#print('lambda:'+str(lambda_optimal_cf_sr), 'beta:'+str(beta_optimal_cf_sr), 'alpha:'+str(alpha_optimal_cf_sr), 'L:'+str(L_optimal_cf_sr), 'steps:'+str(steps_optimal_cf_sr))"
   ],
   "metadata": {
    "collapsed": false,
    "pycharm": {
     "name": "#%%\n"
    }
   }
  },
  {
   "cell_type": "markdown",
   "source": [
    "# 4. Experiment"
   ],
   "metadata": {
    "collapsed": false,
    "pycharm": {
     "name": "#%% md\n"
    }
   }
  },
  {
   "cell_type": "code",
   "execution_count": 236,
   "outputs": [],
   "source": [
    "def create_initial_matrix(N, M, L):\n",
    "    return np.full([N, L], 0.5), np.full([M, L], 0.5)\n",
    "\n",
    "P_ini_cf, Q_ini_cf = create_initial_matrix(N, M, L_optimal_cf)\n",
    "P_ini_cf_sr, Q_ini_cf_sr = create_initial_matrix(N, M, L_optimal_cf_sr)"
   ],
   "metadata": {
    "collapsed": false,
    "pycharm": {
     "name": "#%%\n"
    }
   }
  },
  {
   "cell_type": "markdown",
   "source": [
    "4.1 Method 1: CF"
   ],
   "metadata": {
    "collapsed": false,
    "pycharm": {
     "name": "#%% md\n"
    }
   }
  },
  {
   "cell_type": "code",
   "execution_count": 237,
   "outputs": [
    {
     "data": {
      "text/plain": "  0%|          | 0/1000 [00:00<?, ?it/s]",
      "application/vnd.jupyter.widget-view+json": {
       "version_major": 2,
       "version_minor": 0,
       "model_id": "0da93db3065643959d9e48c25b447ae0"
      }
     },
     "metadata": {},
     "output_type": "display_data"
    }
   ],
   "source": [
    "#runtime: easily >1hr\n",
    "nP_cf, nQ_cf = matrix_factorization(\n",
    "    R=R_train,\n",
    "    P=P_ini_cf,\n",
    "    Q=Q_ini_cf,\n",
    "    K=L_optimal_cf,\n",
    "    steps=steps_optimal_cf,\n",
    "    alpha=alpha_optimal_cf,\n",
    "    lambda1=lambda_optimal_cf,\n",
    "    beta=beta_optimal_cf,\n",
    "    SR=False,\n",
    "    similarity_matrix=None)\n",
    "nR_cf = np.dot(nP_cf, nQ_cf.T)"
   ],
   "metadata": {
    "collapsed": false,
    "pycharm": {
     "name": "#%%\n"
    }
   }
  },
  {
   "cell_type": "markdown",
   "source": [
    "4.2 Method 2: CF with SR"
   ],
   "metadata": {
    "collapsed": false,
    "pycharm": {
     "name": "#%% md\n"
    }
   }
  },
  {
   "cell_type": "code",
   "execution_count": 202,
   "outputs": [
    {
     "data": {
      "text/plain": "  0%|          | 0/3000 [00:00<?, ?it/s]",
      "application/vnd.jupyter.widget-view+json": {
       "version_major": 2,
       "version_minor": 0,
       "model_id": "1535008929c2474d89ca82ea6227e81c"
      }
     },
     "metadata": {},
     "output_type": "display_data"
    }
   ],
   "source": [
    "#runtime: easily >1hr\n",
    "nP_cf_sr, nQ_cf_sr = matrix_factorization(\n",
    "    R_train,\n",
    "    P_ini_cf_sr,\n",
    "    Q_ini_cf_sr,\n",
    "    K=L_optimal_cf_sr,\n",
    "    steps=steps_optimal_cf_sr,\n",
    "    alpha=alpha_optimal_cf_sr,\n",
    "    lambda1=lambda_optimal_cf_sr,\n",
    "    beta=beta_optimal_cf_sr,\n",
    "    SR=True,\n",
    "    similarity_matrix=similarity_matrix)\n",
    "nR_cf_sr = np.dot(nP_cf_sr, nQ_cf_sr.T)"
   ],
   "metadata": {
    "collapsed": false,
    "pycharm": {
     "name": "#%%\n"
    }
   }
  },
  {
   "cell_type": "markdown",
   "source": [
    "# 5. Results"
   ],
   "metadata": {
    "collapsed": false
   }
  },
  {
   "cell_type": "code",
   "execution_count": 204,
   "outputs": [
    {
     "data": {
      "text/plain": "\"\\ndef print_results(R_pred,R_test):\\n    rmse,mae = metrics_sparse(R_pred,R_test)\\n\\n    print('mae: '+ str(mae))\\n    print('rmse: '+ str(rmse))\\n    print('spearman: ' + str(spearman(R_pred,R_test)))\\n    print('kendall: ' + str(kendall(R_pred,R_test)))\\n\\n    return mae,rmse,spearman(R_pred,R_test),kendall(R_pred,R_test)\\n\""
     },
     "execution_count": 204,
     "metadata": {},
     "output_type": "execute_result"
    }
   ],
   "source": [
    "\"\"\"\n",
    "def print_results(R_pred,R_test):\n",
    "    rmse,mae = metrics_sparse(R_pred,R_test)\n",
    "\n",
    "    print('mae: '+ str(mae))\n",
    "    print('rmse: '+ str(rmse))\n",
    "    print('spearman: ' + str(spearman(R_pred,R_test)))\n",
    "    print('kendall: ' + str(kendall(R_pred,R_test)))\n",
    "\n",
    "    return mae,rmse,spearman(R_pred,R_test),kendall(R_pred,R_test)\n",
    "\"\"\""
   ],
   "metadata": {
    "collapsed": false,
    "pycharm": {
     "name": "#%%\n"
    }
   }
  },
  {
   "cell_type": "code",
   "execution_count": 205,
   "outputs": [
    {
     "data": {
      "text/plain": "'\\ndef calc_results(R_pred,R_test):\\n    rmse,mae = metrics_sparse(R_pred,R_test)\\n    return\\n'"
     },
     "execution_count": 205,
     "metadata": {},
     "output_type": "execute_result"
    }
   ],
   "source": [
    "\"\"\"\n",
    "def calc_results(R_pred,R_test):\n",
    "    rmse,mae = metrics_sparse(R_pred,R_test)\n",
    "    return\n",
    "\"\"\""
   ],
   "metadata": {
    "collapsed": false,
    "pycharm": {
     "name": "#%%\n"
    }
   }
  },
  {
   "cell_type": "code",
   "execution_count": 240,
   "outputs": [
    {
     "name": "stdout",
     "output_type": "stream",
     "text": [
      "\n",
      "** pred CF  ** \n",
      "mae: 0.1541\n",
      "rmse: 0.2829\n",
      "spearman: 0.2344\n",
      "kendall: 0.2138\n",
      "\n",
      "** pred CF+SR ** \n"
     ]
    },
    {
     "ename": "ValueError",
     "evalue": "Found array with 0 sample(s) (shape=(0,)) while a minimum of 1 is required.",
     "output_type": "error",
     "traceback": [
      "\u001B[1;31m---------------------------------------------------------------------------\u001B[0m",
      "\u001B[1;31mValueError\u001B[0m                                Traceback (most recent call last)",
      "Input \u001B[1;32mIn [240]\u001B[0m, in \u001B[0;36m<module>\u001B[1;34m\u001B[0m\n\u001B[0;32m      4\u001B[0m print_results(nR_cf,R_test)\n\u001B[0;32m      6\u001B[0m \u001B[38;5;28mprint\u001B[39m(\u001B[38;5;124m'\u001B[39m\u001B[38;5;130;01m\\n\u001B[39;00m\u001B[38;5;124m** pred CF+SR ** \u001B[39m\u001B[38;5;124m'\u001B[39m)\n\u001B[1;32m----> 7\u001B[0m \u001B[43mprint_results\u001B[49m\u001B[43m(\u001B[49m\u001B[43mnR_cf_sr\u001B[49m\u001B[43m,\u001B[49m\u001B[43mR_test\u001B[49m\u001B[43m)\u001B[49m\n\u001B[0;32m      9\u001B[0m \u001B[38;5;28mprint\u001B[39m(\u001B[38;5;124m'\u001B[39m\u001B[38;5;130;01m\\n\u001B[39;00m\u001B[38;5;124m** pred random ** \u001B[39m\u001B[38;5;124m'\u001B[39m)\n\u001B[0;32m     10\u001B[0m R_rand \u001B[38;5;241m=\u001B[39m np\u001B[38;5;241m.\u001B[39mrandom\u001B[38;5;241m.\u001B[39mrand(N,M)\n",
      "File \u001B[1;32m~\\PycharmProjects\\CF_SocialRegularization\\myFunctions.py:425\u001B[0m, in \u001B[0;36mprint_results\u001B[1;34m(R_pred, R_test)\u001B[0m\n\u001B[0;32m    424\u001B[0m \u001B[38;5;28;01mdef\u001B[39;00m \u001B[38;5;21mprint_results\u001B[39m(R_pred, R_test):\n\u001B[1;32m--> 425\u001B[0m     rmse, mae \u001B[38;5;241m=\u001B[39m \u001B[43mmetrics_sparse\u001B[49m\u001B[43m(\u001B[49m\u001B[43mR_pred\u001B[49m\u001B[43m,\u001B[49m\u001B[43m \u001B[49m\u001B[43mR_test\u001B[49m\u001B[43m)\u001B[49m\n\u001B[0;32m    427\u001B[0m     \u001B[38;5;28mprint\u001B[39m(\u001B[38;5;124m'\u001B[39m\u001B[38;5;124mmae: \u001B[39m\u001B[38;5;124m'\u001B[39m \u001B[38;5;241m+\u001B[39m \u001B[38;5;28mstr\u001B[39m(mae))\n\u001B[0;32m    428\u001B[0m     \u001B[38;5;28mprint\u001B[39m(\u001B[38;5;124m'\u001B[39m\u001B[38;5;124mrmse: \u001B[39m\u001B[38;5;124m'\u001B[39m \u001B[38;5;241m+\u001B[39m \u001B[38;5;28mstr\u001B[39m(rmse))\n",
      "File \u001B[1;32m~\\PycharmProjects\\CF_SocialRegularization\\myFunctions.py:344\u001B[0m, in \u001B[0;36mmetrics_sparse\u001B[1;34m(matrix_1, matrix_2)\u001B[0m\n\u001B[0;32m    341\u001B[0m             y_actual\u001B[38;5;241m.\u001B[39mappend(matrix_2[i][j])\n\u001B[0;32m    342\u001B[0m             y_predicted\u001B[38;5;241m.\u001B[39mappend(matrix_1[i][j])\n\u001B[1;32m--> 344\u001B[0m MSE \u001B[38;5;241m=\u001B[39m \u001B[43mmean_squared_error\u001B[49m\u001B[43m(\u001B[49m\u001B[43my_actual\u001B[49m\u001B[43m,\u001B[49m\u001B[43m \u001B[49m\u001B[43my_predicted\u001B[49m\u001B[43m)\u001B[49m\n\u001B[0;32m    345\u001B[0m RMSE \u001B[38;5;241m=\u001B[39m math\u001B[38;5;241m.\u001B[39msqrt(MSE)\n\u001B[0;32m    346\u001B[0m MAE \u001B[38;5;241m=\u001B[39m mean_absolute_error(y_actual, y_predicted)\n",
      "File \u001B[1;32m~\\AppData\\Local\\Programs\\Python\\Python310\\lib\\site-packages\\sklearn\\metrics\\_regression.py:438\u001B[0m, in \u001B[0;36mmean_squared_error\u001B[1;34m(y_true, y_pred, sample_weight, multioutput, squared)\u001B[0m\n\u001B[0;32m    378\u001B[0m \u001B[38;5;28;01mdef\u001B[39;00m \u001B[38;5;21mmean_squared_error\u001B[39m(\n\u001B[0;32m    379\u001B[0m     y_true, y_pred, \u001B[38;5;241m*\u001B[39m, sample_weight\u001B[38;5;241m=\u001B[39m\u001B[38;5;28;01mNone\u001B[39;00m, multioutput\u001B[38;5;241m=\u001B[39m\u001B[38;5;124m\"\u001B[39m\u001B[38;5;124muniform_average\u001B[39m\u001B[38;5;124m\"\u001B[39m, squared\u001B[38;5;241m=\u001B[39m\u001B[38;5;28;01mTrue\u001B[39;00m\n\u001B[0;32m    380\u001B[0m ):\n\u001B[0;32m    381\u001B[0m     \u001B[38;5;124;03m\"\"\"Mean squared error regression loss.\u001B[39;00m\n\u001B[0;32m    382\u001B[0m \n\u001B[0;32m    383\u001B[0m \u001B[38;5;124;03m    Read more in the :ref:`User Guide <mean_squared_error>`.\u001B[39;00m\n\u001B[1;32m   (...)\u001B[0m\n\u001B[0;32m    436\u001B[0m \u001B[38;5;124;03m    0.825...\u001B[39;00m\n\u001B[0;32m    437\u001B[0m \u001B[38;5;124;03m    \"\"\"\u001B[39;00m\n\u001B[1;32m--> 438\u001B[0m     y_type, y_true, y_pred, multioutput \u001B[38;5;241m=\u001B[39m \u001B[43m_check_reg_targets\u001B[49m\u001B[43m(\u001B[49m\n\u001B[0;32m    439\u001B[0m \u001B[43m        \u001B[49m\u001B[43my_true\u001B[49m\u001B[43m,\u001B[49m\u001B[43m \u001B[49m\u001B[43my_pred\u001B[49m\u001B[43m,\u001B[49m\u001B[43m \u001B[49m\u001B[43mmultioutput\u001B[49m\n\u001B[0;32m    440\u001B[0m \u001B[43m    \u001B[49m\u001B[43m)\u001B[49m\n\u001B[0;32m    441\u001B[0m     check_consistent_length(y_true, y_pred, sample_weight)\n\u001B[0;32m    442\u001B[0m     output_errors \u001B[38;5;241m=\u001B[39m np\u001B[38;5;241m.\u001B[39maverage((y_true \u001B[38;5;241m-\u001B[39m y_pred) \u001B[38;5;241m*\u001B[39m\u001B[38;5;241m*\u001B[39m \u001B[38;5;241m2\u001B[39m, axis\u001B[38;5;241m=\u001B[39m\u001B[38;5;241m0\u001B[39m, weights\u001B[38;5;241m=\u001B[39msample_weight)\n",
      "File \u001B[1;32m~\\AppData\\Local\\Programs\\Python\\Python310\\lib\\site-packages\\sklearn\\metrics\\_regression.py:95\u001B[0m, in \u001B[0;36m_check_reg_targets\u001B[1;34m(y_true, y_pred, multioutput, dtype)\u001B[0m\n\u001B[0;32m     61\u001B[0m \u001B[38;5;124;03m\"\"\"Check that y_true and y_pred belong to the same regression task.\u001B[39;00m\n\u001B[0;32m     62\u001B[0m \n\u001B[0;32m     63\u001B[0m \u001B[38;5;124;03mParameters\u001B[39;00m\n\u001B[1;32m   (...)\u001B[0m\n\u001B[0;32m     92\u001B[0m \u001B[38;5;124;03m    the dtype argument passed to check_array.\u001B[39;00m\n\u001B[0;32m     93\u001B[0m \u001B[38;5;124;03m\"\"\"\u001B[39;00m\n\u001B[0;32m     94\u001B[0m check_consistent_length(y_true, y_pred)\n\u001B[1;32m---> 95\u001B[0m y_true \u001B[38;5;241m=\u001B[39m \u001B[43mcheck_array\u001B[49m\u001B[43m(\u001B[49m\u001B[43my_true\u001B[49m\u001B[43m,\u001B[49m\u001B[43m \u001B[49m\u001B[43mensure_2d\u001B[49m\u001B[38;5;241;43m=\u001B[39;49m\u001B[38;5;28;43;01mFalse\u001B[39;49;00m\u001B[43m,\u001B[49m\u001B[43m \u001B[49m\u001B[43mdtype\u001B[49m\u001B[38;5;241;43m=\u001B[39;49m\u001B[43mdtype\u001B[49m\u001B[43m)\u001B[49m\n\u001B[0;32m     96\u001B[0m y_pred \u001B[38;5;241m=\u001B[39m check_array(y_pred, ensure_2d\u001B[38;5;241m=\u001B[39m\u001B[38;5;28;01mFalse\u001B[39;00m, dtype\u001B[38;5;241m=\u001B[39mdtype)\n\u001B[0;32m     98\u001B[0m \u001B[38;5;28;01mif\u001B[39;00m y_true\u001B[38;5;241m.\u001B[39mndim \u001B[38;5;241m==\u001B[39m \u001B[38;5;241m1\u001B[39m:\n",
      "File \u001B[1;32m~\\AppData\\Local\\Programs\\Python\\Python310\\lib\\site-packages\\sklearn\\utils\\validation.py:805\u001B[0m, in \u001B[0;36mcheck_array\u001B[1;34m(array, accept_sparse, accept_large_sparse, dtype, order, copy, force_all_finite, ensure_2d, allow_nd, ensure_min_samples, ensure_min_features, estimator)\u001B[0m\n\u001B[0;32m    803\u001B[0m     n_samples \u001B[38;5;241m=\u001B[39m _num_samples(array)\n\u001B[0;32m    804\u001B[0m     \u001B[38;5;28;01mif\u001B[39;00m n_samples \u001B[38;5;241m<\u001B[39m ensure_min_samples:\n\u001B[1;32m--> 805\u001B[0m         \u001B[38;5;28;01mraise\u001B[39;00m \u001B[38;5;167;01mValueError\u001B[39;00m(\n\u001B[0;32m    806\u001B[0m             \u001B[38;5;124m\"\u001B[39m\u001B[38;5;124mFound array with \u001B[39m\u001B[38;5;132;01m%d\u001B[39;00m\u001B[38;5;124m sample(s) (shape=\u001B[39m\u001B[38;5;132;01m%s\u001B[39;00m\u001B[38;5;124m) while a\u001B[39m\u001B[38;5;124m\"\u001B[39m\n\u001B[0;32m    807\u001B[0m             \u001B[38;5;124m\"\u001B[39m\u001B[38;5;124m minimum of \u001B[39m\u001B[38;5;132;01m%d\u001B[39;00m\u001B[38;5;124m is required\u001B[39m\u001B[38;5;132;01m%s\u001B[39;00m\u001B[38;5;124m.\u001B[39m\u001B[38;5;124m\"\u001B[39m\n\u001B[0;32m    808\u001B[0m             \u001B[38;5;241m%\u001B[39m (n_samples, array\u001B[38;5;241m.\u001B[39mshape, ensure_min_samples, context)\n\u001B[0;32m    809\u001B[0m         )\n\u001B[0;32m    811\u001B[0m \u001B[38;5;28;01mif\u001B[39;00m ensure_min_features \u001B[38;5;241m>\u001B[39m \u001B[38;5;241m0\u001B[39m \u001B[38;5;129;01mand\u001B[39;00m array\u001B[38;5;241m.\u001B[39mndim \u001B[38;5;241m==\u001B[39m \u001B[38;5;241m2\u001B[39m:\n\u001B[0;32m    812\u001B[0m     n_features \u001B[38;5;241m=\u001B[39m array\u001B[38;5;241m.\u001B[39mshape[\u001B[38;5;241m1\u001B[39m]\n",
      "\u001B[1;31mValueError\u001B[0m: Found array with 0 sample(s) (shape=(0,)) while a minimum of 1 is required."
     ]
    }
   ],
   "source": [
    "\n",
    "\n",
    "print('\\n** pred CF  ** ')\n",
    "print_results(nR_cf,R_test)\n",
    "\n",
    "print('\\n** pred CF+SR ** ')\n",
    "print_results(nR_cf_sr,R_test)\n",
    "\n",
    "print('\\n** pred random ** ')\n",
    "R_rand = np.random.rand(N,M)\n",
    "print_results(R_rand,R_test,)\n",
    "\n",
    "print('\\n** pred 0.5 ** ')\n",
    "R_05 = np.full([N,M],0.5)\n",
    "print_results(R_05,R_test)\n"
   ],
   "metadata": {
    "collapsed": false,
    "pycharm": {
     "name": "#%%\n"
    }
   }
  },
  {
   "cell_type": "markdown",
   "source": [
    "# 6. Write results to text file"
   ],
   "metadata": {
    "collapsed": false,
    "pycharm": {
     "name": "#%% md\n"
    }
   }
  },
  {
   "cell_type": "code",
   "execution_count": 102,
   "outputs": [
    {
     "ename": "TypeError",
     "evalue": "cannot unpack non-iterable NoneType object",
     "output_type": "error",
     "traceback": [
      "\u001B[1;31m---------------------------------------------------------------------------\u001B[0m",
      "\u001B[1;31mTypeError\u001B[0m                                 Traceback (most recent call last)",
      "Input \u001B[1;32mIn [102]\u001B[0m, in \u001B[0;36m<module>\u001B[1;34m\u001B[0m\n\u001B[0;32m      1\u001B[0m \u001B[38;5;28;01mfrom\u001B[39;00m \u001B[38;5;21;01mmyFunctions\u001B[39;00m \u001B[38;5;28;01mimport\u001B[39;00m results_to_txt\n\u001B[0;32m      2\u001B[0m \u001B[38;5;66;03m#Run cell to write a summary of results to Results/results_YYYY-mm-dd HH-MM-SS.txt\u001B[39;00m\n\u001B[1;32m----> 3\u001B[0m \u001B[43mresults_to_txt\u001B[49m\u001B[43m(\u001B[49m\n\u001B[0;32m      4\u001B[0m \u001B[43m    \u001B[49m\u001B[43mnR_cf\u001B[49m\u001B[43m,\u001B[49m\n\u001B[0;32m      5\u001B[0m \u001B[43m    \u001B[49m\u001B[43mnR_cf_sr\u001B[49m\u001B[43m,\u001B[49m\n\u001B[0;32m      6\u001B[0m \u001B[43m    \u001B[49m\u001B[43mR_test\u001B[49m\u001B[43m,\u001B[49m\n\u001B[0;32m      7\u001B[0m \u001B[43m    \u001B[49m\u001B[43mstart_time_experiment\u001B[49m\u001B[43m,\u001B[49m\n\u001B[0;32m      8\u001B[0m \u001B[43m    \u001B[49m\u001B[43mtoy_data\u001B[49m\u001B[43m,\u001B[49m\n\u001B[0;32m      9\u001B[0m \u001B[43m    \u001B[49m\u001B[43mdataset_1\u001B[49m\u001B[43m,\u001B[49m\n\u001B[0;32m     10\u001B[0m \u001B[43m    \u001B[49m\u001B[43mdataset_2\u001B[49m\u001B[43m,\u001B[49m\n\u001B[0;32m     11\u001B[0m \u001B[43m    \u001B[49m\u001B[43mdataset_3\u001B[49m\u001B[43m,\u001B[49m\n\u001B[0;32m     12\u001B[0m \u001B[43m    \u001B[49m\u001B[43mcov_array_personal\u001B[49m\u001B[43m,\u001B[49m\n\u001B[0;32m     13\u001B[0m \u001B[43m    \u001B[49m\u001B[43mtest_size\u001B[49m\u001B[43m,\u001B[49m\n\u001B[0;32m     14\u001B[0m \u001B[43m    \u001B[49m\u001B[43mout_of_time\u001B[49m\u001B[43m,\u001B[49m\n\u001B[0;32m     15\u001B[0m \u001B[43m    \u001B[49m\u001B[43mone_in_train_val\u001B[49m\u001B[43m,\u001B[49m\n\u001B[0;32m     16\u001B[0m \u001B[43m    \u001B[49m\u001B[43mlambda_array\u001B[49m\u001B[43m,\u001B[49m\n\u001B[0;32m     17\u001B[0m \u001B[43m    \u001B[49m\u001B[43mbeta_array\u001B[49m\u001B[43m,\u001B[49m\n\u001B[0;32m     18\u001B[0m \u001B[43m    \u001B[49m\u001B[43malpha_array\u001B[49m\u001B[43m,\u001B[49m\n\u001B[0;32m     19\u001B[0m \u001B[43m    \u001B[49m\u001B[43mL_array\u001B[49m\u001B[43m,\u001B[49m\n\u001B[0;32m     20\u001B[0m \u001B[43m    \u001B[49m\u001B[43msteps_array\u001B[49m\u001B[43m,\u001B[49m\n\u001B[0;32m     21\u001B[0m \u001B[43m    \u001B[49m\u001B[43mlambda_optimal_cf\u001B[49m\u001B[43m,\u001B[49m\n\u001B[0;32m     22\u001B[0m \u001B[43m    \u001B[49m\u001B[43mbeta_optimal_cf\u001B[49m\u001B[43m,\u001B[49m\n\u001B[0;32m     23\u001B[0m \u001B[43m    \u001B[49m\u001B[43mL_optimal_cf\u001B[49m\u001B[43m,\u001B[49m\n\u001B[0;32m     24\u001B[0m \u001B[43m    \u001B[49m\u001B[43malpha_optimal_cf\u001B[49m\u001B[43m,\u001B[49m\n\u001B[0;32m     25\u001B[0m \u001B[43m    \u001B[49m\u001B[43msteps_optimal_cf\u001B[49m\u001B[43m,\u001B[49m\n\u001B[0;32m     26\u001B[0m \u001B[43m    \u001B[49m\u001B[43mlambda_optimal_cf_sr\u001B[49m\u001B[43m,\u001B[49m\n\u001B[0;32m     27\u001B[0m \u001B[43m    \u001B[49m\u001B[43mbeta_optimal_cf_sr\u001B[49m\u001B[43m,\u001B[49m\n\u001B[0;32m     28\u001B[0m \u001B[43m    \u001B[49m\u001B[43malpha_optimal_cf_sr\u001B[49m\u001B[43m,\u001B[49m\n\u001B[0;32m     29\u001B[0m \u001B[43m    \u001B[49m\u001B[43mL_optimal_cf_sr\u001B[49m\u001B[43m,\u001B[49m\n\u001B[0;32m     30\u001B[0m \u001B[43m    \u001B[49m\u001B[43msteps_optimal_cf_sr\u001B[49m\u001B[43m)\u001B[49m\n",
      "File \u001B[1;32m~\\PycharmProjects\\CF_SocialRegularization\\myFunctions.py:494\u001B[0m, in \u001B[0;36mresults_to_txt\u001B[1;34m(nR_cf, nR_cf_sr, R_test, start_time_experiment, toy_data, dataset_1, dataset_2, dataset_3, cov_array_personal, test_size, out_of_time, one_in_train_val, lambda_array, beta_array, alpha_array, L_array, steps_array, lambda_optimal_cf, beta_optimal_cf, L_optimal_cf, alpha_optimal_cf, steps_optimal_cf, lambda_optimal_cf_sr, beta_optimal_cf_sr, alpha_optimal_cf_sr, L_optimal_cf_sr, steps_optimal_cf_sr)\u001B[0m\n\u001B[0;32m    491\u001B[0m \u001B[38;5;66;03m# Format the date and time to be used in the file name\u001B[39;00m\n\u001B[0;32m    492\u001B[0m file_name \u001B[38;5;241m=\u001B[39m \u001B[38;5;124m\"\u001B[39m\u001B[38;5;124mResults/results_\u001B[39m\u001B[38;5;132;01m{}\u001B[39;00m\u001B[38;5;124m.txt\u001B[39m\u001B[38;5;124m\"\u001B[39m\u001B[38;5;241m.\u001B[39mformat(now\u001B[38;5;241m.\u001B[39mstrftime(\u001B[38;5;124m\"\u001B[39m\u001B[38;5;124m%\u001B[39m\u001B[38;5;124mY-\u001B[39m\u001B[38;5;124m%\u001B[39m\u001B[38;5;124mm-\u001B[39m\u001B[38;5;132;01m%d\u001B[39;00m\u001B[38;5;124m \u001B[39m\u001B[38;5;124m%\u001B[39m\u001B[38;5;124mH-\u001B[39m\u001B[38;5;124m%\u001B[39m\u001B[38;5;124mM-\u001B[39m\u001B[38;5;124m%\u001B[39m\u001B[38;5;124mS\u001B[39m\u001B[38;5;124m\"\u001B[39m))\n\u001B[1;32m--> 494\u001B[0m mae_cf, rmse_cf, spearman_cf, kendall_cf \u001B[38;5;241m=\u001B[39m calc_results(nR_cf, R_test)\n\u001B[0;32m    495\u001B[0m mae_cf_sr, rmse_cf_sr, spearman_cf_sr, kendall_cf_sr \u001B[38;5;241m=\u001B[39m calc_results(nR_cf_sr, R_test)\n\u001B[0;32m    497\u001B[0m \u001B[38;5;66;03m# Open a new text file in write mode\u001B[39;00m\n",
      "\u001B[1;31mTypeError\u001B[0m: cannot unpack non-iterable NoneType object"
     ]
    }
   ],
   "source": [
    "\n",
    "#Run cell to write a summary of results to Results/results_YYYY-mm-dd HH-MM-SS.txt\n",
    "results_to_txt(\n",
    "    nR_cf, nR_cf_sr, R_test, start_time_experiment, toy_data, dataset_1, dataset_2, dataset_3, cov_array_personal, test_size, out_of_time, one_in_train_val, lambda_array, beta_array, alpha_array, L_array, steps_array, lambda_optimal_cf, beta_optimal_cf, L_optimal_cf, alpha_optimal_cf, steps_optimal_cf, lambda_optimal_cf_sr, beta_optimal_cf_sr, alpha_optimal_cf_sr, L_optimal_cf_sr, steps_optimal_cf_sr)"
   ],
   "metadata": {
    "collapsed": false,
    "pycharm": {
     "name": "#%%\n"
    }
   }
  },
  {
   "cell_type": "code",
   "execution_count": null,
   "outputs": [],
   "source": [],
   "metadata": {
    "collapsed": false,
    "pycharm": {
     "name": "#%%\n"
    }
   }
  },
  {
   "cell_type": "code",
   "execution_count": null,
   "outputs": [],
   "source": [],
   "metadata": {
    "collapsed": false,
    "pycharm": {
     "name": "#%%\n"
    }
   }
  }
 ],
 "metadata": {
  "kernelspec": {
   "display_name": "Python 3",
   "language": "python",
   "name": "python3"
  },
  "language_info": {
   "codemirror_mode": {
    "name": "ipython",
    "version": 2
   },
   "file_extension": ".py",
   "mimetype": "text/x-python",
   "name": "python",
   "nbconvert_exporter": "python",
   "pygments_lexer": "ipython2",
   "version": "2.7.6"
  }
 },
 "nbformat": 4,
 "nbformat_minor": 0
}